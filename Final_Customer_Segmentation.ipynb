{
  "nbformat": 4,
  "nbformat_minor": 0,
  "metadata": {
    "colab": {
      "name": "Final_Customer_Segmentation.ipynb",
      "provenance": [],
      "collapsed_sections": [
        "4RL6RZ-Xw87L",
        "K3J4MUOIxIvI",
        "utQfRHg3xgGB",
        "emwKyZl8xzoI",
        "CVvQbNCByP4D"
      ]
    },
    "kernelspec": {
      "name": "python3",
      "display_name": "Python 3"
    }
  },
  "cells": [
    {
      "cell_type": "markdown",
      "metadata": {
        "id": "Rw8FbGKGpLbh",
        "colab_type": "text"
      },
      "source": [
        "**Problem Statement**\n",
        "\n",
        "We have to perform cohort and RFM analysis to understand the value derived from different customer segments. Further, we will divide customers in different clusters based on the analysis by using K-means algorithm."
      ]
    },
    {
      "cell_type": "markdown",
      "metadata": {
        "id": "ccqwiyuZpUbk",
        "colab_type": "text"
      },
      "source": [
        "\n",
        "**Dataset Description**\n",
        "\n",
        "This is a transnational data set which contains all the transactions that occurred between 01/12/2010 and 09/12/2011 for a UK-based and registered non-store online retail. The company mainly sells unique and all-occasion gifts."
      ]
    },
    {
      "cell_type": "markdown",
      "metadata": {
        "id": "vtXkmXSCphCV",
        "colab_type": "text"
      },
      "source": [
        "**Variables Description**\n",
        "- InvoiceNo Invoice number. Nominal, a six digit integral number uniquely assigned to each transaction. If this code starts with letter 'c', it indicates a cancellation\n",
        "\n",
        "- StockCode Product (item) code. Nominal, a five digit integral number uniquely assigned to each distinct product\n",
        "\n",
        "- Description Product (item) name. Nominal\n",
        "\n",
        "- Quantity The quantities of each product (item) per transaction. Numeric\n",
        "\n",
        "- InvoiceDate Invoice Date and time. Numeric, the day and time when each transaction was generated\n",
        "\n",
        "- UnitPrice Unit price. Numeric, product price per unit in sterling\n",
        "\n",
        "- CustomerID Customer number. Nominal, a six digit integral number uniquely assigned to each customer\n",
        "\n",
        "- Country Country name. Nominal, the name of the country where each customer resides\n"
      ]
    },
    {
      "cell_type": "markdown",
      "metadata": {
        "id": "Js8ejOqUwP65",
        "colab_type": "text"
      },
      "source": [
        "# 1.data preperation\n"
      ]
    },
    {
      "cell_type": "markdown",
      "metadata": {
        "id": "K4cvk2KRwUy_",
        "colab_type": "text"
      },
      "source": [
        "## 1.1 importing req lib"
      ]
    },
    {
      "cell_type": "code",
      "metadata": {
        "id": "e1ZGbf56knWI",
        "colab_type": "code",
        "colab": {
          "base_uri": "https://localhost:8080/",
          "height": 72
        },
        "outputId": "cc9ef4cf-9f7b-470f-a909-565bb3f80ca7"
      },
      "source": [
        "# import library\n",
        "import numpy as np # linear algebra\n",
        "import pandas as pd # data processing, CSV file I/O (e.g. pd.read_csv)\n",
        "import datetime as dt\n",
        "\n",
        "#For Data  Visualization\n",
        "import matplotlib.pyplot as plt\n",
        "import seaborn as sns\n",
        "\n",
        "#For Machine Learning Algorithm\n",
        "from sklearn.preprocessing import StandardScaler\n",
        "from sklearn.cluster import KMeans\n"
      ],
      "execution_count": null,
      "outputs": [
        {
          "output_type": "stream",
          "text": [
            "/usr/local/lib/python3.6/dist-packages/statsmodels/tools/_testing.py:19: FutureWarning: pandas.util.testing is deprecated. Use the functions in the public API at pandas.testing instead.\n",
            "  import pandas.util.testing as tm\n"
          ],
          "name": "stderr"
        }
      ]
    },
    {
      "cell_type": "code",
      "metadata": {
        "id": "yGWF08WTk5gB",
        "colab_type": "code",
        "colab": {}
      },
      "source": [
        "df=pd.read_csv(\"/content/drive/My Drive/summer internship/ecommerce.csv\",encoding=\"ISO-8859-1\")"
      ],
      "execution_count": null,
      "outputs": []
    },
    {
      "cell_type": "markdown",
      "metadata": {
        "id": "2bQyTbD4xoMx",
        "colab_type": "text"
      },
      "source": [
        "The DataFrame contains the information about customer's purchases across United Kingdom. There are nearly about 4000 customers and their purchases during the period of one year (from 2010-12-01 to 2011-12-09)."
      ]
    },
    {
      "cell_type": "code",
      "metadata": {
        "id": "cH2YyiwTk-hl",
        "colab_type": "code",
        "colab": {}
      },
      "source": [
        "# converting invoiceDate to datetime\n",
        "df['InvoiceDate'] = pd.to_datetime(df['InvoiceDate']) \n"
      ],
      "execution_count": null,
      "outputs": []
    },
    {
      "cell_type": "markdown",
      "metadata": {
        "id": "WC2arAHcwcRO",
        "colab_type": "text"
      },
      "source": [
        "## 1.2 data overview statistics"
      ]
    },
    {
      "cell_type": "code",
      "metadata": {
        "id": "01_TaMxHwf5D",
        "colab_type": "code",
        "colab": {
          "base_uri": "https://localhost:8080/",
          "height": 277
        },
        "outputId": "4b26e9b1-56a4-45c8-d1b4-8abdbaba0254"
      },
      "source": [
        "df.info()"
      ],
      "execution_count": null,
      "outputs": [
        {
          "output_type": "stream",
          "text": [
            "<class 'pandas.core.frame.DataFrame'>\n",
            "RangeIndex: 541909 entries, 0 to 541908\n",
            "Data columns (total 8 columns):\n",
            " #   Column       Non-Null Count   Dtype         \n",
            "---  ------       --------------   -----         \n",
            " 0   InvoiceNo    541909 non-null  object        \n",
            " 1   StockCode    541909 non-null  object        \n",
            " 2   Description  540455 non-null  object        \n",
            " 3   Quantity     541909 non-null  int64         \n",
            " 4   InvoiceDate  541909 non-null  datetime64[ns]\n",
            " 5   UnitPrice    541909 non-null  float64       \n",
            " 6   CustomerID   406829 non-null  float64       \n",
            " 7   Country      541909 non-null  object        \n",
            "dtypes: datetime64[ns](1), float64(2), int64(1), object(4)\n",
            "memory usage: 33.1+ MB\n"
          ],
          "name": "stdout"
        }
      ]
    },
    {
      "cell_type": "code",
      "metadata": {
        "id": "RKQhSo4nwoer",
        "colab_type": "code",
        "colab": {
          "base_uri": "https://localhost:8080/",
          "height": 294
        },
        "outputId": "d3f75c6b-5fed-49f9-84c8-d4efa6045592"
      },
      "source": [
        "df.describe()"
      ],
      "execution_count": null,
      "outputs": [
        {
          "output_type": "execute_result",
          "data": {
            "text/html": [
              "<div>\n",
              "<style scoped>\n",
              "    .dataframe tbody tr th:only-of-type {\n",
              "        vertical-align: middle;\n",
              "    }\n",
              "\n",
              "    .dataframe tbody tr th {\n",
              "        vertical-align: top;\n",
              "    }\n",
              "\n",
              "    .dataframe thead th {\n",
              "        text-align: right;\n",
              "    }\n",
              "</style>\n",
              "<table border=\"1\" class=\"dataframe\">\n",
              "  <thead>\n",
              "    <tr style=\"text-align: right;\">\n",
              "      <th></th>\n",
              "      <th>Quantity</th>\n",
              "      <th>UnitPrice</th>\n",
              "      <th>CustomerID</th>\n",
              "    </tr>\n",
              "  </thead>\n",
              "  <tbody>\n",
              "    <tr>\n",
              "      <th>count</th>\n",
              "      <td>541909.000000</td>\n",
              "      <td>541909.000000</td>\n",
              "      <td>406829.000000</td>\n",
              "    </tr>\n",
              "    <tr>\n",
              "      <th>mean</th>\n",
              "      <td>9.552250</td>\n",
              "      <td>4.611114</td>\n",
              "      <td>15287.690570</td>\n",
              "    </tr>\n",
              "    <tr>\n",
              "      <th>std</th>\n",
              "      <td>218.081158</td>\n",
              "      <td>96.759853</td>\n",
              "      <td>1713.600303</td>\n",
              "    </tr>\n",
              "    <tr>\n",
              "      <th>min</th>\n",
              "      <td>-80995.000000</td>\n",
              "      <td>-11062.060000</td>\n",
              "      <td>12346.000000</td>\n",
              "    </tr>\n",
              "    <tr>\n",
              "      <th>25%</th>\n",
              "      <td>1.000000</td>\n",
              "      <td>1.250000</td>\n",
              "      <td>13953.000000</td>\n",
              "    </tr>\n",
              "    <tr>\n",
              "      <th>50%</th>\n",
              "      <td>3.000000</td>\n",
              "      <td>2.080000</td>\n",
              "      <td>15152.000000</td>\n",
              "    </tr>\n",
              "    <tr>\n",
              "      <th>75%</th>\n",
              "      <td>10.000000</td>\n",
              "      <td>4.130000</td>\n",
              "      <td>16791.000000</td>\n",
              "    </tr>\n",
              "    <tr>\n",
              "      <th>max</th>\n",
              "      <td>80995.000000</td>\n",
              "      <td>38970.000000</td>\n",
              "      <td>18287.000000</td>\n",
              "    </tr>\n",
              "  </tbody>\n",
              "</table>\n",
              "</div>"
            ],
            "text/plain": [
              "            Quantity      UnitPrice     CustomerID\n",
              "count  541909.000000  541909.000000  406829.000000\n",
              "mean        9.552250       4.611114   15287.690570\n",
              "std       218.081158      96.759853    1713.600303\n",
              "min    -80995.000000  -11062.060000   12346.000000\n",
              "25%         1.000000       1.250000   13953.000000\n",
              "50%         3.000000       2.080000   15152.000000\n",
              "75%        10.000000       4.130000   16791.000000\n",
              "max     80995.000000   38970.000000   18287.000000"
            ]
          },
          "metadata": {
            "tags": []
          },
          "execution_count": 7
        }
      ]
    },
    {
      "cell_type": "markdown",
      "metadata": {
        "id": "42yuUvqQwxfk",
        "colab_type": "text"
      },
      "source": [
        "## 1.3Handling missing values"
      ]
    },
    {
      "cell_type": "code",
      "metadata": {
        "id": "K7oWyD9UlD-L",
        "colab_type": "code",
        "colab": {
          "base_uri": "https://localhost:8080/",
          "height": 173
        },
        "outputId": "1ca76253-be25-4536-d748-b9501676b947"
      },
      "source": [
        "df.isnull().sum()"
      ],
      "execution_count": null,
      "outputs": [
        {
          "output_type": "execute_result",
          "data": {
            "text/plain": [
              "InvoiceNo           0\n",
              "StockCode           0\n",
              "Description      1454\n",
              "Quantity            0\n",
              "InvoiceDate         0\n",
              "UnitPrice           0\n",
              "CustomerID     135080\n",
              "Country             0\n",
              "dtype: int64"
            ]
          },
          "metadata": {
            "tags": []
          },
          "execution_count": 8
        }
      ]
    },
    {
      "cell_type": "code",
      "metadata": {
        "id": "F3pvFN5RlHhp",
        "colab_type": "code",
        "colab": {
          "base_uri": "https://localhost:8080/",
          "height": 353
        },
        "outputId": "22aa9017-c398-4d43-bf41-e8e12b14f628"
      },
      "source": [
        "plt.figure(figsize=(5, 5))\n",
        "df.isnull().mean(axis=0).plot.barh()\n",
        "plt.title(\"Ratio of missing values per columns\")"
      ],
      "execution_count": null,
      "outputs": [
        {
          "output_type": "execute_result",
          "data": {
            "text/plain": [
              "Text(0.5, 1.0, 'Ratio of missing values per columns')"
            ]
          },
          "metadata": {
            "tags": []
          },
          "execution_count": 9
        },
        {
          "output_type": "display_data",
          "data": {
            "image/png": "[encoded data removed]",
            "text/plain": [
              "<Figure size 360x360 with 1 Axes>"
            ]
          },
          "metadata": {
            "tags": [],
            "needs_background": "light"
          }
        }
      ]
    },
    {
      "cell_type": "markdown",
      "metadata": {
        "id": "SfygmiP-qA6Q",
        "colab_type": "text"
      },
      "source": [
        "from the above bar graph,we can clearly see that there are missing values in customerid and description.So we have to drop them"
      ]
    },
    {
      "cell_type": "code",
      "metadata": {
        "id": "i-5LnWCXlJkG",
        "colab_type": "code",
        "colab": {}
      },
      "source": [
        "df= df.dropna(subset=['CustomerID'])\n"
      ],
      "execution_count": null,
      "outputs": []
    },
    {
      "cell_type": "code",
      "metadata": {
        "id": "8HetIqIGlMfR",
        "colab_type": "code",
        "colab": {
          "base_uri": "https://localhost:8080/",
          "height": 363
        },
        "outputId": "edc1cd79-616b-40a1-b9b8-fb1f4e7cfe22"
      },
      "source": [
        "data_info=pd.DataFrame(df.dtypes)\n",
        "data_info['Null_values']=df.isnull().sum()\n",
        "data_info['Percentage']=df.isnull().sum()/len(df)\n",
        "data_info.rename(columns={0: 'Data Type', 'Null_values': '# of Null Values','Percentage': '%age of Null Values'},inplace=True)\n",
        "\n",
        "print('Dimension of df now: ', df.shape)\n",
        "print('\\n \\nData Type and Null population Information:')\n",
        "display(data_info)"
      ],
      "execution_count": null,
      "outputs": [
        {
          "output_type": "stream",
          "text": [
            "Dimension of df now:  (406829, 8)\n",
            "\n",
            " \n",
            "Data Type and Null population Information:\n"
          ],
          "name": "stdout"
        },
        {
          "output_type": "display_data",
          "data": {
            "text/html": [
              "<div>\n",
              "<style scoped>\n",
              "    .dataframe tbody tr th:only-of-type {\n",
              "        vertical-align: middle;\n",
              "    }\n",
              "\n",
              "    .dataframe tbody tr th {\n",
              "        vertical-align: top;\n",
              "    }\n",
              "\n",
              "    .dataframe thead th {\n",
              "        text-align: right;\n",
              "    }\n",
              "</style>\n",
              "<table border=\"1\" class=\"dataframe\">\n",
              "  <thead>\n",
              "    <tr style=\"text-align: right;\">\n",
              "      <th></th>\n",
              "      <th>Data Type</th>\n",
              "      <th># of Null Values</th>\n",
              "      <th>%age of Null Values</th>\n",
              "    </tr>\n",
              "  </thead>\n",
              "  <tbody>\n",
              "    <tr>\n",
              "      <th>InvoiceNo</th>\n",
              "      <td>object</td>\n",
              "      <td>0</td>\n",
              "      <td>0.0</td>\n",
              "    </tr>\n",
              "    <tr>\n",
              "      <th>StockCode</th>\n",
              "      <td>object</td>\n",
              "      <td>0</td>\n",
              "      <td>0.0</td>\n",
              "    </tr>\n",
              "    <tr>\n",
              "      <th>Description</th>\n",
              "      <td>object</td>\n",
              "      <td>0</td>\n",
              "      <td>0.0</td>\n",
              "    </tr>\n",
              "    <tr>\n",
              "      <th>Quantity</th>\n",
              "      <td>int64</td>\n",
              "      <td>0</td>\n",
              "      <td>0.0</td>\n",
              "    </tr>\n",
              "    <tr>\n",
              "      <th>InvoiceDate</th>\n",
              "      <td>datetime64[ns]</td>\n",
              "      <td>0</td>\n",
              "      <td>0.0</td>\n",
              "    </tr>\n",
              "    <tr>\n",
              "      <th>UnitPrice</th>\n",
              "      <td>float64</td>\n",
              "      <td>0</td>\n",
              "      <td>0.0</td>\n",
              "    </tr>\n",
              "    <tr>\n",
              "      <th>CustomerID</th>\n",
              "      <td>float64</td>\n",
              "      <td>0</td>\n",
              "      <td>0.0</td>\n",
              "    </tr>\n",
              "    <tr>\n",
              "      <th>Country</th>\n",
              "      <td>object</td>\n",
              "      <td>0</td>\n",
              "      <td>0.0</td>\n",
              "    </tr>\n",
              "  </tbody>\n",
              "</table>\n",
              "</div>"
            ],
            "text/plain": [
              "                  Data Type  # of Null Values  %age of Null Values\n",
              "InvoiceNo            object                 0                  0.0\n",
              "StockCode            object                 0                  0.0\n",
              "Description          object                 0                  0.0\n",
              "Quantity              int64                 0                  0.0\n",
              "InvoiceDate  datetime64[ns]                 0                  0.0\n",
              "UnitPrice           float64                 0                  0.0\n",
              "CustomerID          float64                 0                  0.0\n",
              "Country              object                 0                  0.0"
            ]
          },
          "metadata": {
            "tags": []
          }
        }
      ]
    },
    {
      "cell_type": "code",
      "metadata": {
        "id": "Gsw_EsB_lPY9",
        "colab_type": "code",
        "colab": {
          "base_uri": "https://localhost:8080/",
          "height": 35
        },
        "outputId": "b4629f39-359d-48b5-f27b-de23ea114b76"
      },
      "source": [
        "df.isnull().sum().sum()"
      ],
      "execution_count": null,
      "outputs": [
        {
          "output_type": "execute_result",
          "data": {
            "text/plain": [
              "0"
            ]
          },
          "metadata": {
            "tags": []
          },
          "execution_count": 12
        }
      ]
    },
    {
      "cell_type": "code",
      "metadata": {
        "id": "t-7Dsk6clR2_",
        "colab_type": "code",
        "colab": {
          "base_uri": "https://localhost:8080/",
          "height": 337
        },
        "outputId": "d1df26e9-947e-40df-ea24-fb913e71ada4"
      },
      "source": [
        "sns.heatmap(df.isnull())"
      ],
      "execution_count": null,
      "outputs": [
        {
          "output_type": "execute_result",
          "data": {
            "text/plain": [
              "<matplotlib.axes._subplots.AxesSubplot at 0x7f65fb0a69e8>"
            ]
          },
          "metadata": {
            "tags": []
          },
          "execution_count": 13
        },
        {
          "output_type": "display_data",
          "data": {
            "image/png": "[encoded data removed]",
            "text/plain": [
              "<Figure size 432x288 with 2 Axes>"
            ]
          },
          "metadata": {
            "tags": [],
            "needs_background": "light"
          }
        }
      ]
    },
    {
      "cell_type": "markdown",
      "metadata": {
        "id": "sspCP4PR0MFC",
        "colab_type": "text"
      },
      "source": [
        "**from the above heatmap we can say that there are no missing values**"
      ]
    },
    {
      "cell_type": "markdown",
      "metadata": {
        "id": "4RL6RZ-Xw87L",
        "colab_type": "text"
      },
      "source": [
        "## 1.4handling duplicate values"
      ]
    },
    {
      "cell_type": "code",
      "metadata": {
        "id": "C6xtmd0LlWkg",
        "colab_type": "code",
        "colab": {
          "base_uri": "https://localhost:8080/"
        },
        "outputId": "e1bbd427-11a2-4ae9-93e0-325a4bf33d30"
      },
      "source": [
        "df.duplicated().sum()"
      ],
      "execution_count": null,
      "outputs": [
        {
          "output_type": "execute_result",
          "data": {
            "text/plain": [
              "5225"
            ]
          },
          "metadata": {
            "tags": []
          },
          "execution_count": 14
        }
      ]
    },
    {
      "cell_type": "code",
      "metadata": {
        "id": "_HhkC0grldCf",
        "colab_type": "code",
        "colab": {}
      },
      "source": [
        "df = df.drop_duplicates()"
      ],
      "execution_count": null,
      "outputs": []
    },
    {
      "cell_type": "code",
      "metadata": {
        "id": "5a25bO3YliK9",
        "colab_type": "code",
        "colab": {
          "base_uri": "https://localhost:8080/"
        },
        "outputId": "7503f995-34cb-47b2-8d10-9f71dbee9e33"
      },
      "source": [
        "df.duplicated().sum()"
      ],
      "execution_count": null,
      "outputs": [
        {
          "output_type": "execute_result",
          "data": {
            "text/plain": [
              "0"
            ]
          },
          "metadata": {
            "tags": []
          },
          "execution_count": 16
        }
      ]
    },
    {
      "cell_type": "markdown",
      "metadata": {
        "id": "7Vn4T9-KxC86",
        "colab_type": "text"
      },
      "source": [
        "# 2Data Exploration"
      ]
    },
    {
      "cell_type": "markdown",
      "metadata": {
        "id": "K3J4MUOIxIvI",
        "colab_type": "text"
      },
      "source": [
        "## 2.1data check"
      ]
    },
    {
      "cell_type": "code",
      "metadata": {
        "id": "tK2i3Bj-lkfu",
        "colab_type": "code",
        "colab": {
          "base_uri": "https://localhost:8080/"
        },
        "outputId": "c1bf85c4-279a-4ca7-da7f-f81ac4452d7f"
      },
      "source": [
        "# Checking if the data is at a summarized level\n",
        "level_check=df.groupby(['InvoiceNo','StockCode','Description','InvoiceDate','Quantity','UnitPrice'])['CustomerID'].count().reset_index()\n",
        "level_check[level_check['CustomerID'] > 1]\n"
      ],
      "execution_count": null,
      "outputs": [
        {
          "output_type": "execute_result",
          "data": {
            "text/html": [
              "<div>\n",
              "<style scoped>\n",
              "    .dataframe tbody tr th:only-of-type {\n",
              "        vertical-align: middle;\n",
              "    }\n",
              "\n",
              "    .dataframe tbody tr th {\n",
              "        vertical-align: top;\n",
              "    }\n",
              "\n",
              "    .dataframe thead th {\n",
              "        text-align: right;\n",
              "    }\n",
              "</style>\n",
              "<table border=\"1\" class=\"dataframe\">\n",
              "  <thead>\n",
              "    <tr style=\"text-align: right;\">\n",
              "      <th></th>\n",
              "      <th>InvoiceNo</th>\n",
              "      <th>StockCode</th>\n",
              "      <th>Description</th>\n",
              "      <th>InvoiceDate</th>\n",
              "      <th>Quantity</th>\n",
              "      <th>UnitPrice</th>\n",
              "      <th>CustomerID</th>\n",
              "    </tr>\n",
              "  </thead>\n",
              "  <tbody>\n",
              "  </tbody>\n",
              "</table>\n",
              "</div>"
            ],
            "text/plain": [
              "Empty DataFrame\n",
              "Columns: [InvoiceNo, StockCode, Description, InvoiceDate, Quantity, UnitPrice, CustomerID]\n",
              "Index: []"
            ]
          },
          "metadata": {
            "tags": []
          },
          "execution_count": 17
        }
      ]
    },
    {
      "cell_type": "markdown",
      "metadata": {
        "id": "iLqDhas60Tul",
        "colab_type": "text"
      },
      "source": [
        "**There is no ouput. This confirms that the data is at a summarized level. And we have also checked if one invoice corresponds to one customers**\n"
      ]
    },
    {
      "cell_type": "code",
      "metadata": {
        "id": "vDqwNONclsF_",
        "colab_type": "code",
        "colab": {
          "base_uri": "https://localhost:8080/"
        },
        "outputId": "4346dc30-4e09-40f2-d708-439181fc223a"
      },
      "source": [
        "df.describe()"
      ],
      "execution_count": null,
      "outputs": [
        {
          "output_type": "execute_result",
          "data": {
            "text/html": [
              "<div>\n",
              "<style scoped>\n",
              "    .dataframe tbody tr th:only-of-type {\n",
              "        vertical-align: middle;\n",
              "    }\n",
              "\n",
              "    .dataframe tbody tr th {\n",
              "        vertical-align: top;\n",
              "    }\n",
              "\n",
              "    .dataframe thead th {\n",
              "        text-align: right;\n",
              "    }\n",
              "</style>\n",
              "<table border=\"1\" class=\"dataframe\">\n",
              "  <thead>\n",
              "    <tr style=\"text-align: right;\">\n",
              "      <th></th>\n",
              "      <th>Quantity</th>\n",
              "      <th>UnitPrice</th>\n",
              "      <th>CustomerID</th>\n",
              "    </tr>\n",
              "  </thead>\n",
              "  <tbody>\n",
              "    <tr>\n",
              "      <th>count</th>\n",
              "      <td>401604.000000</td>\n",
              "      <td>401604.000000</td>\n",
              "      <td>401604.000000</td>\n",
              "    </tr>\n",
              "    <tr>\n",
              "      <th>mean</th>\n",
              "      <td>12.183273</td>\n",
              "      <td>3.474064</td>\n",
              "      <td>15281.160818</td>\n",
              "    </tr>\n",
              "    <tr>\n",
              "      <th>std</th>\n",
              "      <td>250.283037</td>\n",
              "      <td>69.764035</td>\n",
              "      <td>1714.006089</td>\n",
              "    </tr>\n",
              "    <tr>\n",
              "      <th>min</th>\n",
              "      <td>-80995.000000</td>\n",
              "      <td>0.000000</td>\n",
              "      <td>12346.000000</td>\n",
              "    </tr>\n",
              "    <tr>\n",
              "      <th>25%</th>\n",
              "      <td>2.000000</td>\n",
              "      <td>1.250000</td>\n",
              "      <td>13939.000000</td>\n",
              "    </tr>\n",
              "    <tr>\n",
              "      <th>50%</th>\n",
              "      <td>5.000000</td>\n",
              "      <td>1.950000</td>\n",
              "      <td>15145.000000</td>\n",
              "    </tr>\n",
              "    <tr>\n",
              "      <th>75%</th>\n",
              "      <td>12.000000</td>\n",
              "      <td>3.750000</td>\n",
              "      <td>16784.000000</td>\n",
              "    </tr>\n",
              "    <tr>\n",
              "      <th>max</th>\n",
              "      <td>80995.000000</td>\n",
              "      <td>38970.000000</td>\n",
              "      <td>18287.000000</td>\n",
              "    </tr>\n",
              "  </tbody>\n",
              "</table>\n",
              "</div>"
            ],
            "text/plain": [
              "            Quantity      UnitPrice     CustomerID\n",
              "count  401604.000000  401604.000000  401604.000000\n",
              "mean       12.183273       3.474064   15281.160818\n",
              "std       250.283037      69.764035    1714.006089\n",
              "min    -80995.000000       0.000000   12346.000000\n",
              "25%         2.000000       1.250000   13939.000000\n",
              "50%         5.000000       1.950000   15145.000000\n",
              "75%        12.000000       3.750000   16784.000000\n",
              "max     80995.000000   38970.000000   18287.000000"
            ]
          },
          "metadata": {
            "tags": []
          },
          "execution_count": 18
        }
      ]
    },
    {
      "cell_type": "markdown",
      "metadata": {
        "id": "F9V8PFbOyB5a",
        "colab_type": "text"
      },
      "source": [
        "The Quantity column has a negative value in it. But logically it should not, because the customer can not buy a negative amount of merchant. It is impossible. But maybe it is a way that store register such sales as installment plan. But maybe I am wrong.\n",
        "\n",
        "Also the UnitPrice column have zero price rows. It means that we sell for free."
      ]
    },
    {
      "cell_type": "code",
      "metadata": {
        "id": "bYxV02VHs9nO",
        "colab_type": "code",
        "colab": {
          "base_uri": "https://localhost:8080/"
        },
        "outputId": "6ef44fa6-a430-4c25-bd03-2409baa80f39"
      },
      "source": [
        "df=df[(df['Quantity']>0) & (df['UnitPrice']>0)]\n",
        "df.describe() "
      ],
      "execution_count": null,
      "outputs": [
        {
          "output_type": "execute_result",
          "data": {
            "text/html": [
              "<div>\n",
              "<style scoped>\n",
              "    .dataframe tbody tr th:only-of-type {\n",
              "        vertical-align: middle;\n",
              "    }\n",
              "\n",
              "    .dataframe tbody tr th {\n",
              "        vertical-align: top;\n",
              "    }\n",
              "\n",
              "    .dataframe thead th {\n",
              "        text-align: right;\n",
              "    }\n",
              "</style>\n",
              "<table border=\"1\" class=\"dataframe\">\n",
              "  <thead>\n",
              "    <tr style=\"text-align: right;\">\n",
              "      <th></th>\n",
              "      <th>Quantity</th>\n",
              "      <th>UnitPrice</th>\n",
              "      <th>CustomerID</th>\n",
              "    </tr>\n",
              "  </thead>\n",
              "  <tbody>\n",
              "    <tr>\n",
              "      <th>count</th>\n",
              "      <td>392692.000000</td>\n",
              "      <td>392692.000000</td>\n",
              "      <td>392692.000000</td>\n",
              "    </tr>\n",
              "    <tr>\n",
              "      <th>mean</th>\n",
              "      <td>13.119702</td>\n",
              "      <td>3.125914</td>\n",
              "      <td>15287.843865</td>\n",
              "    </tr>\n",
              "    <tr>\n",
              "      <th>std</th>\n",
              "      <td>180.492832</td>\n",
              "      <td>22.241836</td>\n",
              "      <td>1713.539549</td>\n",
              "    </tr>\n",
              "    <tr>\n",
              "      <th>min</th>\n",
              "      <td>1.000000</td>\n",
              "      <td>0.001000</td>\n",
              "      <td>12346.000000</td>\n",
              "    </tr>\n",
              "    <tr>\n",
              "      <th>25%</th>\n",
              "      <td>2.000000</td>\n",
              "      <td>1.250000</td>\n",
              "      <td>13955.000000</td>\n",
              "    </tr>\n",
              "    <tr>\n",
              "      <th>50%</th>\n",
              "      <td>6.000000</td>\n",
              "      <td>1.950000</td>\n",
              "      <td>15150.000000</td>\n",
              "    </tr>\n",
              "    <tr>\n",
              "      <th>75%</th>\n",
              "      <td>12.000000</td>\n",
              "      <td>3.750000</td>\n",
              "      <td>16791.000000</td>\n",
              "    </tr>\n",
              "    <tr>\n",
              "      <th>max</th>\n",
              "      <td>80995.000000</td>\n",
              "      <td>8142.750000</td>\n",
              "      <td>18287.000000</td>\n",
              "    </tr>\n",
              "  </tbody>\n",
              "</table>\n",
              "</div>"
            ],
            "text/plain": [
              "            Quantity      UnitPrice     CustomerID\n",
              "count  392692.000000  392692.000000  392692.000000\n",
              "mean       13.119702       3.125914   15287.843865\n",
              "std       180.492832      22.241836    1713.539549\n",
              "min         1.000000       0.001000   12346.000000\n",
              "25%         2.000000       1.250000   13955.000000\n",
              "50%         6.000000       1.950000   15150.000000\n",
              "75%        12.000000       3.750000   16791.000000\n",
              "max     80995.000000    8142.750000   18287.000000"
            ]
          },
          "metadata": {
            "tags": []
          },
          "execution_count": 19
        }
      ]
    },
    {
      "cell_type": "code",
      "metadata": {
        "id": "MUWKZPc-tEwu",
        "colab_type": "code",
        "colab": {
          "base_uri": "https://localhost:8080/"
        },
        "outputId": "25591df7-04fd-466f-e60d-c1459adb4630"
      },
      "source": [
        "df.shape"
      ],
      "execution_count": null,
      "outputs": [
        {
          "output_type": "execute_result",
          "data": {
            "text/plain": [
              "(392692, 8)"
            ]
          },
          "metadata": {
            "tags": []
          },
          "execution_count": 20
        }
      ]
    },
    {
      "cell_type": "markdown",
      "metadata": {
        "id": "JOxrnSUixZn5",
        "colab_type": "text"
      },
      "source": [
        "#3Customer segmentation"
      ]
    },
    {
      "cell_type": "markdown",
      "metadata": {
        "id": "utQfRHg3xgGB",
        "colab_type": "text"
      },
      "source": [
        "## 3.1Cohort analysis"
      ]
    },
    {
      "cell_type": "markdown",
      "metadata": {
        "id": "BoH1RAevxqqA",
        "colab_type": "text"
      },
      "source": [
        "**For cohort analysis, there are a few labels that we have to create:**\n",
        "\n",
        "- Invoice period: A string representation of the year and month of a single transaction/invoice.\n",
        "- Cohort group: A string representation of the the year and month of a customer’s first purchase. This label is common across all invoices for a particular customer.\n",
        "- Cohort period / Cohort Index: A integer representation a customer’s stage in its “lifetime”. The number represents the number of months passed since the first purchase.\n"
      ]
    },
    {
      "cell_type": "code",
      "metadata": {
        "id": "Yp50JyuctJcX",
        "colab_type": "code",
        "colab": {
          "base_uri": "https://localhost:8080/"
        },
        "outputId": "cafcba6d-514d-461e-90e4-43d57f7ad18c"
      },
      "source": [
        "def get_month(x) : return dt.datetime(x.year,x.month,1)\n",
        "df['InvoiceMonth'] = df['InvoiceDate'].apply(get_month)\n",
        "grouping = df.groupby('CustomerID')['InvoiceMonth']\n",
        "df['CohortMonth'] = grouping.transform('min')\n",
        "df.tail()"
      ],
      "execution_count": null,
      "outputs": [
        {
          "output_type": "execute_result",
          "data": {
            "text/html": [
              "<div>\n",
              "<style scoped>\n",
              "    .dataframe tbody tr th:only-of-type {\n",
              "        vertical-align: middle;\n",
              "    }\n",
              "\n",
              "    .dataframe tbody tr th {\n",
              "        vertical-align: top;\n",
              "    }\n",
              "\n",
              "    .dataframe thead th {\n",
              "        text-align: right;\n",
              "    }\n",
              "</style>\n",
              "<table border=\"1\" class=\"dataframe\">\n",
              "  <thead>\n",
              "    <tr style=\"text-align: right;\">\n",
              "      <th></th>\n",
              "      <th>InvoiceNo</th>\n",
              "      <th>StockCode</th>\n",
              "      <th>Description</th>\n",
              "      <th>Quantity</th>\n",
              "      <th>InvoiceDate</th>\n",
              "      <th>UnitPrice</th>\n",
              "      <th>CustomerID</th>\n",
              "      <th>Country</th>\n",
              "      <th>InvoiceMonth</th>\n",
              "      <th>CohortMonth</th>\n",
              "    </tr>\n",
              "  </thead>\n",
              "  <tbody>\n",
              "    <tr>\n",
              "      <th>541904</th>\n",
              "      <td>581587</td>\n",
              "      <td>22613</td>\n",
              "      <td>PACK OF 20 SPACEBOY NAPKINS</td>\n",
              "      <td>12</td>\n",
              "      <td>2011-12-09 12:50:00</td>\n",
              "      <td>0.85</td>\n",
              "      <td>12680.0</td>\n",
              "      <td>France</td>\n",
              "      <td>2011-12-01</td>\n",
              "      <td>2011-08-01</td>\n",
              "    </tr>\n",
              "    <tr>\n",
              "      <th>541905</th>\n",
              "      <td>581587</td>\n",
              "      <td>22899</td>\n",
              "      <td>CHILDREN'S APRON DOLLY GIRL</td>\n",
              "      <td>6</td>\n",
              "      <td>2011-12-09 12:50:00</td>\n",
              "      <td>2.10</td>\n",
              "      <td>12680.0</td>\n",
              "      <td>France</td>\n",
              "      <td>2011-12-01</td>\n",
              "      <td>2011-08-01</td>\n",
              "    </tr>\n",
              "    <tr>\n",
              "      <th>541906</th>\n",
              "      <td>581587</td>\n",
              "      <td>23254</td>\n",
              "      <td>CHILDRENS CUTLERY DOLLY GIRL</td>\n",
              "      <td>4</td>\n",
              "      <td>2011-12-09 12:50:00</td>\n",
              "      <td>4.15</td>\n",
              "      <td>12680.0</td>\n",
              "      <td>France</td>\n",
              "      <td>2011-12-01</td>\n",
              "      <td>2011-08-01</td>\n",
              "    </tr>\n",
              "    <tr>\n",
              "      <th>541907</th>\n",
              "      <td>581587</td>\n",
              "      <td>23255</td>\n",
              "      <td>CHILDRENS CUTLERY CIRCUS PARADE</td>\n",
              "      <td>4</td>\n",
              "      <td>2011-12-09 12:50:00</td>\n",
              "      <td>4.15</td>\n",
              "      <td>12680.0</td>\n",
              "      <td>France</td>\n",
              "      <td>2011-12-01</td>\n",
              "      <td>2011-08-01</td>\n",
              "    </tr>\n",
              "    <tr>\n",
              "      <th>541908</th>\n",
              "      <td>581587</td>\n",
              "      <td>22138</td>\n",
              "      <td>BAKING SET 9 PIECE RETROSPOT</td>\n",
              "      <td>3</td>\n",
              "      <td>2011-12-09 12:50:00</td>\n",
              "      <td>4.95</td>\n",
              "      <td>12680.0</td>\n",
              "      <td>France</td>\n",
              "      <td>2011-12-01</td>\n",
              "      <td>2011-08-01</td>\n",
              "    </tr>\n",
              "  </tbody>\n",
              "</table>\n",
              "</div>"
            ],
            "text/plain": [
              "       InvoiceNo StockCode  ... InvoiceMonth  CohortMonth\n",
              "541904    581587     22613  ...   2011-12-01   2011-08-01\n",
              "541905    581587     22899  ...   2011-12-01   2011-08-01\n",
              "541906    581587     23254  ...   2011-12-01   2011-08-01\n",
              "541907    581587     23255  ...   2011-12-01   2011-08-01\n",
              "541908    581587     22138  ...   2011-12-01   2011-08-01\n",
              "\n",
              "[5 rows x 10 columns]"
            ]
          },
          "metadata": {
            "tags": []
          },
          "execution_count": 21
        }
      ]
    },
    {
      "cell_type": "code",
      "metadata": {
        "id": "swF9zSAFtzgR",
        "colab_type": "code",
        "colab": {}
      },
      "source": [
        "def get_month_int (dframe,column):\n",
        "    year = dframe[column].dt.year\n",
        "    month = dframe[column].dt.month\n",
        "    day = dframe[column].dt.day\n",
        "    return year, month , day \n",
        "\n",
        "invoice_year,invoice_month,_ = get_month_int(df,'InvoiceMonth')\n",
        "cohort_year,cohort_month,_ = get_month_int(df,'CohortMonth')\n",
        "\n",
        "year_diff = invoice_year - cohort_year \n",
        "month_diff = invoice_month - cohort_month \n",
        "\n",
        "df['CohortIndex'] = year_diff * 12 + month_diff + 1 "
      ],
      "execution_count": null,
      "outputs": []
    },
    {
      "cell_type": "code",
      "metadata": {
        "id": "o5iZaLzWRHbH",
        "colab_type": "code",
        "colab": {
          "base_uri": "https://localhost:8080/"
        },
        "outputId": "b6fa4cb4-0c21-4204-b341-dde196b99a8a"
      },
      "source": [
        "df.head(2)"
      ],
      "execution_count": null,
      "outputs": [
        {
          "output_type": "execute_result",
          "data": {
            "text/html": [
              "<div>\n",
              "<style scoped>\n",
              "    .dataframe tbody tr th:only-of-type {\n",
              "        vertical-align: middle;\n",
              "    }\n",
              "\n",
              "    .dataframe tbody tr th {\n",
              "        vertical-align: top;\n",
              "    }\n",
              "\n",
              "    .dataframe thead th {\n",
              "        text-align: right;\n",
              "    }\n",
              "</style>\n",
              "<table border=\"1\" class=\"dataframe\">\n",
              "  <thead>\n",
              "    <tr style=\"text-align: right;\">\n",
              "      <th></th>\n",
              "      <th>InvoiceNo</th>\n",
              "      <th>StockCode</th>\n",
              "      <th>Description</th>\n",
              "      <th>Quantity</th>\n",
              "      <th>InvoiceDate</th>\n",
              "      <th>UnitPrice</th>\n",
              "      <th>CustomerID</th>\n",
              "      <th>Country</th>\n",
              "      <th>InvoiceMonth</th>\n",
              "      <th>CohortMonth</th>\n",
              "      <th>CohortIndex</th>\n",
              "    </tr>\n",
              "  </thead>\n",
              "  <tbody>\n",
              "    <tr>\n",
              "      <th>0</th>\n",
              "      <td>536365</td>\n",
              "      <td>85123A</td>\n",
              "      <td>WHITE HANGING HEART T-LIGHT HOLDER</td>\n",
              "      <td>6</td>\n",
              "      <td>2010-12-01 08:26:00</td>\n",
              "      <td>2.55</td>\n",
              "      <td>17850.0</td>\n",
              "      <td>United Kingdom</td>\n",
              "      <td>2010-12-01</td>\n",
              "      <td>2010-12-01</td>\n",
              "      <td>1</td>\n",
              "    </tr>\n",
              "    <tr>\n",
              "      <th>1</th>\n",
              "      <td>536365</td>\n",
              "      <td>71053</td>\n",
              "      <td>WHITE METAL LANTERN</td>\n",
              "      <td>6</td>\n",
              "      <td>2010-12-01 08:26:00</td>\n",
              "      <td>3.39</td>\n",
              "      <td>17850.0</td>\n",
              "      <td>United Kingdom</td>\n",
              "      <td>2010-12-01</td>\n",
              "      <td>2010-12-01</td>\n",
              "      <td>1</td>\n",
              "    </tr>\n",
              "  </tbody>\n",
              "</table>\n",
              "</div>"
            ],
            "text/plain": [
              "  InvoiceNo StockCode  ... CohortMonth  CohortIndex\n",
              "0    536365    85123A  ...  2010-12-01            1\n",
              "1    536365     71053  ...  2010-12-01            1\n",
              "\n",
              "[2 rows x 11 columns]"
            ]
          },
          "metadata": {
            "tags": []
          },
          "execution_count": 23
        }
      ]
    },
    {
      "cell_type": "code",
      "metadata": {
        "id": "L0mSbBAS-BUC",
        "colab_type": "code",
        "colab": {
          "base_uri": "https://localhost:8080/"
        },
        "outputId": "bbed8538-d3fc-413f-ff30-b0199e0abe12"
      },
      "source": [
        "df.info()"
      ],
      "execution_count": null,
      "outputs": [
        {
          "output_type": "stream",
          "text": [
            "<class 'pandas.core.frame.DataFrame'>\n",
            "Int64Index: 392692 entries, 0 to 541908\n",
            "Data columns (total 11 columns):\n",
            " #   Column        Non-Null Count   Dtype         \n",
            "---  ------        --------------   -----         \n",
            " 0   InvoiceNo     392692 non-null  object        \n",
            " 1   StockCode     392692 non-null  object        \n",
            " 2   Description   392692 non-null  object        \n",
            " 3   Quantity      392692 non-null  int64         \n",
            " 4   InvoiceDate   392692 non-null  datetime64[ns]\n",
            " 5   UnitPrice     392692 non-null  float64       \n",
            " 6   CustomerID    392692 non-null  float64       \n",
            " 7   Country       392692 non-null  object        \n",
            " 8   InvoiceMonth  392692 non-null  datetime64[ns]\n",
            " 9   CohortMonth   392692 non-null  datetime64[ns]\n",
            " 10  CohortIndex   392692 non-null  int64         \n",
            "dtypes: datetime64[ns](3), float64(2), int64(2), object(4)\n",
            "memory usage: 36.0+ MB\n"
          ],
          "name": "stdout"
        }
      ]
    },
    {
      "cell_type": "markdown",
      "metadata": {
        "id": "emwKyZl8xzoI",
        "colab_type": "text"
      },
      "source": [
        "## 3.2Calculating retention dates"
      ]
    },
    {
      "cell_type": "markdown",
      "metadata": {
        "id": "6dTEhbs7yy3b",
        "colab_type": "text"
      },
      "source": [
        "**Customer retention is a very useful metric to understand how many of the all customers are still active.Retention gives you the percentage of active customers compared to the total number of customers.**\n",
        "\n"
      ]
    },
    {
      "cell_type": "code",
      "metadata": {
        "id": "85nmVsbDt3we",
        "colab_type": "code",
        "colab": {
          "base_uri": "https://localhost:8080/"
        },
        "outputId": "ae90ac8b-e50c-45eb-96cd-df3df9cda2f8"
      },
      "source": [
        "#Counting montly active customer from each cohort\n",
        "grouping = df.groupby(['CohortMonth', 'CohortIndex'])\n",
        "cohort_data = grouping['CustomerID'].apply(pd.Series.nunique)\n",
        "# Return number of unique elements in the object.\n",
        "cohort_data = cohort_data.reset_index()\n",
        "cohort_counts = cohort_data.pivot(index='CohortMonth',columns='CohortIndex',values='CustomerID')\n",
        "cohort_counts"
      ],
      "execution_count": null,
      "outputs": [
        {
          "output_type": "execute_result",
          "data": {
            "text/html": [
              "<div>\n",
              "<style scoped>\n",
              "    .dataframe tbody tr th:only-of-type {\n",
              "        vertical-align: middle;\n",
              "    }\n",
              "\n",
              "    .dataframe tbody tr th {\n",
              "        vertical-align: top;\n",
              "    }\n",
              "\n",
              "    .dataframe thead th {\n",
              "        text-align: right;\n",
              "    }\n",
              "</style>\n",
              "<table border=\"1\" class=\"dataframe\">\n",
              "  <thead>\n",
              "    <tr style=\"text-align: right;\">\n",
              "      <th>CohortIndex</th>\n",
              "      <th>1</th>\n",
              "      <th>2</th>\n",
              "      <th>3</th>\n",
              "      <th>4</th>\n",
              "      <th>5</th>\n",
              "      <th>6</th>\n",
              "      <th>7</th>\n",
              "      <th>8</th>\n",
              "      <th>9</th>\n",
              "      <th>10</th>\n",
              "      <th>11</th>\n",
              "      <th>12</th>\n",
              "      <th>13</th>\n",
              "    </tr>\n",
              "    <tr>\n",
              "      <th>CohortMonth</th>\n",
              "      <th></th>\n",
              "      <th></th>\n",
              "      <th></th>\n",
              "      <th></th>\n",
              "      <th></th>\n",
              "      <th></th>\n",
              "      <th></th>\n",
              "      <th></th>\n",
              "      <th></th>\n",
              "      <th></th>\n",
              "      <th></th>\n",
              "      <th></th>\n",
              "      <th></th>\n",
              "    </tr>\n",
              "  </thead>\n",
              "  <tbody>\n",
              "    <tr>\n",
              "      <th>2010-12-01</th>\n",
              "      <td>885.0</td>\n",
              "      <td>324.0</td>\n",
              "      <td>286.0</td>\n",
              "      <td>340.0</td>\n",
              "      <td>321.0</td>\n",
              "      <td>352.0</td>\n",
              "      <td>321.0</td>\n",
              "      <td>309.0</td>\n",
              "      <td>313.0</td>\n",
              "      <td>350.0</td>\n",
              "      <td>331.0</td>\n",
              "      <td>445.0</td>\n",
              "      <td>235.0</td>\n",
              "    </tr>\n",
              "    <tr>\n",
              "      <th>2011-01-01</th>\n",
              "      <td>417.0</td>\n",
              "      <td>92.0</td>\n",
              "      <td>111.0</td>\n",
              "      <td>96.0</td>\n",
              "      <td>134.0</td>\n",
              "      <td>120.0</td>\n",
              "      <td>103.0</td>\n",
              "      <td>101.0</td>\n",
              "      <td>125.0</td>\n",
              "      <td>136.0</td>\n",
              "      <td>152.0</td>\n",
              "      <td>49.0</td>\n",
              "      <td>NaN</td>\n",
              "    </tr>\n",
              "    <tr>\n",
              "      <th>2011-02-01</th>\n",
              "      <td>380.0</td>\n",
              "      <td>71.0</td>\n",
              "      <td>71.0</td>\n",
              "      <td>108.0</td>\n",
              "      <td>103.0</td>\n",
              "      <td>94.0</td>\n",
              "      <td>96.0</td>\n",
              "      <td>106.0</td>\n",
              "      <td>94.0</td>\n",
              "      <td>116.0</td>\n",
              "      <td>26.0</td>\n",
              "      <td>NaN</td>\n",
              "      <td>NaN</td>\n",
              "    </tr>\n",
              "    <tr>\n",
              "      <th>2011-03-01</th>\n",
              "      <td>452.0</td>\n",
              "      <td>68.0</td>\n",
              "      <td>114.0</td>\n",
              "      <td>90.0</td>\n",
              "      <td>101.0</td>\n",
              "      <td>76.0</td>\n",
              "      <td>121.0</td>\n",
              "      <td>104.0</td>\n",
              "      <td>126.0</td>\n",
              "      <td>39.0</td>\n",
              "      <td>NaN</td>\n",
              "      <td>NaN</td>\n",
              "      <td>NaN</td>\n",
              "    </tr>\n",
              "    <tr>\n",
              "      <th>2011-04-01</th>\n",
              "      <td>300.0</td>\n",
              "      <td>64.0</td>\n",
              "      <td>61.0</td>\n",
              "      <td>63.0</td>\n",
              "      <td>59.0</td>\n",
              "      <td>68.0</td>\n",
              "      <td>65.0</td>\n",
              "      <td>78.0</td>\n",
              "      <td>22.0</td>\n",
              "      <td>NaN</td>\n",
              "      <td>NaN</td>\n",
              "      <td>NaN</td>\n",
              "      <td>NaN</td>\n",
              "    </tr>\n",
              "    <tr>\n",
              "      <th>2011-05-01</th>\n",
              "      <td>284.0</td>\n",
              "      <td>54.0</td>\n",
              "      <td>49.0</td>\n",
              "      <td>49.0</td>\n",
              "      <td>59.0</td>\n",
              "      <td>66.0</td>\n",
              "      <td>75.0</td>\n",
              "      <td>27.0</td>\n",
              "      <td>NaN</td>\n",
              "      <td>NaN</td>\n",
              "      <td>NaN</td>\n",
              "      <td>NaN</td>\n",
              "      <td>NaN</td>\n",
              "    </tr>\n",
              "    <tr>\n",
              "      <th>2011-06-01</th>\n",
              "      <td>242.0</td>\n",
              "      <td>42.0</td>\n",
              "      <td>38.0</td>\n",
              "      <td>64.0</td>\n",
              "      <td>56.0</td>\n",
              "      <td>81.0</td>\n",
              "      <td>23.0</td>\n",
              "      <td>NaN</td>\n",
              "      <td>NaN</td>\n",
              "      <td>NaN</td>\n",
              "      <td>NaN</td>\n",
              "      <td>NaN</td>\n",
              "      <td>NaN</td>\n",
              "    </tr>\n",
              "    <tr>\n",
              "      <th>2011-07-01</th>\n",
              "      <td>188.0</td>\n",
              "      <td>34.0</td>\n",
              "      <td>39.0</td>\n",
              "      <td>42.0</td>\n",
              "      <td>51.0</td>\n",
              "      <td>21.0</td>\n",
              "      <td>NaN</td>\n",
              "      <td>NaN</td>\n",
              "      <td>NaN</td>\n",
              "      <td>NaN</td>\n",
              "      <td>NaN</td>\n",
              "      <td>NaN</td>\n",
              "      <td>NaN</td>\n",
              "    </tr>\n",
              "    <tr>\n",
              "      <th>2011-08-01</th>\n",
              "      <td>169.0</td>\n",
              "      <td>35.0</td>\n",
              "      <td>42.0</td>\n",
              "      <td>41.0</td>\n",
              "      <td>21.0</td>\n",
              "      <td>NaN</td>\n",
              "      <td>NaN</td>\n",
              "      <td>NaN</td>\n",
              "      <td>NaN</td>\n",
              "      <td>NaN</td>\n",
              "      <td>NaN</td>\n",
              "      <td>NaN</td>\n",
              "      <td>NaN</td>\n",
              "    </tr>\n",
              "    <tr>\n",
              "      <th>2011-09-01</th>\n",
              "      <td>299.0</td>\n",
              "      <td>70.0</td>\n",
              "      <td>90.0</td>\n",
              "      <td>34.0</td>\n",
              "      <td>NaN</td>\n",
              "      <td>NaN</td>\n",
              "      <td>NaN</td>\n",
              "      <td>NaN</td>\n",
              "      <td>NaN</td>\n",
              "      <td>NaN</td>\n",
              "      <td>NaN</td>\n",
              "      <td>NaN</td>\n",
              "      <td>NaN</td>\n",
              "    </tr>\n",
              "    <tr>\n",
              "      <th>2011-10-01</th>\n",
              "      <td>358.0</td>\n",
              "      <td>86.0</td>\n",
              "      <td>41.0</td>\n",
              "      <td>NaN</td>\n",
              "      <td>NaN</td>\n",
              "      <td>NaN</td>\n",
              "      <td>NaN</td>\n",
              "      <td>NaN</td>\n",
              "      <td>NaN</td>\n",
              "      <td>NaN</td>\n",
              "      <td>NaN</td>\n",
              "      <td>NaN</td>\n",
              "      <td>NaN</td>\n",
              "    </tr>\n",
              "    <tr>\n",
              "      <th>2011-11-01</th>\n",
              "      <td>323.0</td>\n",
              "      <td>36.0</td>\n",
              "      <td>NaN</td>\n",
              "      <td>NaN</td>\n",
              "      <td>NaN</td>\n",
              "      <td>NaN</td>\n",
              "      <td>NaN</td>\n",
              "      <td>NaN</td>\n",
              "      <td>NaN</td>\n",
              "      <td>NaN</td>\n",
              "      <td>NaN</td>\n",
              "      <td>NaN</td>\n",
              "      <td>NaN</td>\n",
              "    </tr>\n",
              "    <tr>\n",
              "      <th>2011-12-01</th>\n",
              "      <td>41.0</td>\n",
              "      <td>NaN</td>\n",
              "      <td>NaN</td>\n",
              "      <td>NaN</td>\n",
              "      <td>NaN</td>\n",
              "      <td>NaN</td>\n",
              "      <td>NaN</td>\n",
              "      <td>NaN</td>\n",
              "      <td>NaN</td>\n",
              "      <td>NaN</td>\n",
              "      <td>NaN</td>\n",
              "      <td>NaN</td>\n",
              "      <td>NaN</td>\n",
              "    </tr>\n",
              "  </tbody>\n",
              "</table>\n",
              "</div>"
            ],
            "text/plain": [
              "CohortIndex     1      2      3      4   ...     10     11     12     13\n",
              "CohortMonth                              ...                            \n",
              "2010-12-01   885.0  324.0  286.0  340.0  ...  350.0  331.0  445.0  235.0\n",
              "2011-01-01   417.0   92.0  111.0   96.0  ...  136.0  152.0   49.0    NaN\n",
              "2011-02-01   380.0   71.0   71.0  108.0  ...  116.0   26.0    NaN    NaN\n",
              "2011-03-01   452.0   68.0  114.0   90.0  ...   39.0    NaN    NaN    NaN\n",
              "2011-04-01   300.0   64.0   61.0   63.0  ...    NaN    NaN    NaN    NaN\n",
              "2011-05-01   284.0   54.0   49.0   49.0  ...    NaN    NaN    NaN    NaN\n",
              "2011-06-01   242.0   42.0   38.0   64.0  ...    NaN    NaN    NaN    NaN\n",
              "2011-07-01   188.0   34.0   39.0   42.0  ...    NaN    NaN    NaN    NaN\n",
              "2011-08-01   169.0   35.0   42.0   41.0  ...    NaN    NaN    NaN    NaN\n",
              "2011-09-01   299.0   70.0   90.0   34.0  ...    NaN    NaN    NaN    NaN\n",
              "2011-10-01   358.0   86.0   41.0    NaN  ...    NaN    NaN    NaN    NaN\n",
              "2011-11-01   323.0   36.0    NaN    NaN  ...    NaN    NaN    NaN    NaN\n",
              "2011-12-01    41.0    NaN    NaN    NaN  ...    NaN    NaN    NaN    NaN\n",
              "\n",
              "[13 rows x 13 columns]"
            ]
          },
          "metadata": {
            "tags": []
          },
          "execution_count": 25
        }
      ]
    },
    {
      "cell_type": "code",
      "metadata": {
        "id": "FtZ566Ikt7Wz",
        "colab_type": "code",
        "colab": {
          "base_uri": "https://localhost:8080/"
        },
        "outputId": "1764863d-7cae-4d17-d51c-46e2fa5d69f5"
      },
      "source": [
        "# Retention table\n",
        "cohort_size = cohort_counts.iloc[:,0]\n",
        "retention = cohort_counts.divide(cohort_size,axis=0) #axis=0 to ensure the divide along the row axis \n",
        "retention.round(3) * 100 #to show the number as percentage "
      ],
      "execution_count": null,
      "outputs": [
        {
          "output_type": "execute_result",
          "data": {
            "text/html": [
              "<div>\n",
              "<style scoped>\n",
              "    .dataframe tbody tr th:only-of-type {\n",
              "        vertical-align: middle;\n",
              "    }\n",
              "\n",
              "    .dataframe tbody tr th {\n",
              "        vertical-align: top;\n",
              "    }\n",
              "\n",
              "    .dataframe thead th {\n",
              "        text-align: right;\n",
              "    }\n",
              "</style>\n",
              "<table border=\"1\" class=\"dataframe\">\n",
              "  <thead>\n",
              "    <tr style=\"text-align: right;\">\n",
              "      <th>CohortIndex</th>\n",
              "      <th>1</th>\n",
              "      <th>2</th>\n",
              "      <th>3</th>\n",
              "      <th>4</th>\n",
              "      <th>5</th>\n",
              "      <th>6</th>\n",
              "      <th>7</th>\n",
              "      <th>8</th>\n",
              "      <th>9</th>\n",
              "      <th>10</th>\n",
              "      <th>11</th>\n",
              "      <th>12</th>\n",
              "      <th>13</th>\n",
              "    </tr>\n",
              "    <tr>\n",
              "      <th>CohortMonth</th>\n",
              "      <th></th>\n",
              "      <th></th>\n",
              "      <th></th>\n",
              "      <th></th>\n",
              "      <th></th>\n",
              "      <th></th>\n",
              "      <th></th>\n",
              "      <th></th>\n",
              "      <th></th>\n",
              "      <th></th>\n",
              "      <th></th>\n",
              "      <th></th>\n",
              "      <th></th>\n",
              "    </tr>\n",
              "  </thead>\n",
              "  <tbody>\n",
              "    <tr>\n",
              "      <th>2010-12-01</th>\n",
              "      <td>100.0</td>\n",
              "      <td>36.6</td>\n",
              "      <td>32.3</td>\n",
              "      <td>38.4</td>\n",
              "      <td>36.3</td>\n",
              "      <td>39.8</td>\n",
              "      <td>36.3</td>\n",
              "      <td>34.9</td>\n",
              "      <td>35.4</td>\n",
              "      <td>39.5</td>\n",
              "      <td>37.4</td>\n",
              "      <td>50.3</td>\n",
              "      <td>26.6</td>\n",
              "    </tr>\n",
              "    <tr>\n",
              "      <th>2011-01-01</th>\n",
              "      <td>100.0</td>\n",
              "      <td>22.1</td>\n",
              "      <td>26.6</td>\n",
              "      <td>23.0</td>\n",
              "      <td>32.1</td>\n",
              "      <td>28.8</td>\n",
              "      <td>24.7</td>\n",
              "      <td>24.2</td>\n",
              "      <td>30.0</td>\n",
              "      <td>32.6</td>\n",
              "      <td>36.5</td>\n",
              "      <td>11.8</td>\n",
              "      <td>NaN</td>\n",
              "    </tr>\n",
              "    <tr>\n",
              "      <th>2011-02-01</th>\n",
              "      <td>100.0</td>\n",
              "      <td>18.7</td>\n",
              "      <td>18.7</td>\n",
              "      <td>28.4</td>\n",
              "      <td>27.1</td>\n",
              "      <td>24.7</td>\n",
              "      <td>25.3</td>\n",
              "      <td>27.9</td>\n",
              "      <td>24.7</td>\n",
              "      <td>30.5</td>\n",
              "      <td>6.8</td>\n",
              "      <td>NaN</td>\n",
              "      <td>NaN</td>\n",
              "    </tr>\n",
              "    <tr>\n",
              "      <th>2011-03-01</th>\n",
              "      <td>100.0</td>\n",
              "      <td>15.0</td>\n",
              "      <td>25.2</td>\n",
              "      <td>19.9</td>\n",
              "      <td>22.3</td>\n",
              "      <td>16.8</td>\n",
              "      <td>26.8</td>\n",
              "      <td>23.0</td>\n",
              "      <td>27.9</td>\n",
              "      <td>8.6</td>\n",
              "      <td>NaN</td>\n",
              "      <td>NaN</td>\n",
              "      <td>NaN</td>\n",
              "    </tr>\n",
              "    <tr>\n",
              "      <th>2011-04-01</th>\n",
              "      <td>100.0</td>\n",
              "      <td>21.3</td>\n",
              "      <td>20.3</td>\n",
              "      <td>21.0</td>\n",
              "      <td>19.7</td>\n",
              "      <td>22.7</td>\n",
              "      <td>21.7</td>\n",
              "      <td>26.0</td>\n",
              "      <td>7.3</td>\n",
              "      <td>NaN</td>\n",
              "      <td>NaN</td>\n",
              "      <td>NaN</td>\n",
              "      <td>NaN</td>\n",
              "    </tr>\n",
              "    <tr>\n",
              "      <th>2011-05-01</th>\n",
              "      <td>100.0</td>\n",
              "      <td>19.0</td>\n",
              "      <td>17.3</td>\n",
              "      <td>17.3</td>\n",
              "      <td>20.8</td>\n",
              "      <td>23.2</td>\n",
              "      <td>26.4</td>\n",
              "      <td>9.5</td>\n",
              "      <td>NaN</td>\n",
              "      <td>NaN</td>\n",
              "      <td>NaN</td>\n",
              "      <td>NaN</td>\n",
              "      <td>NaN</td>\n",
              "    </tr>\n",
              "    <tr>\n",
              "      <th>2011-06-01</th>\n",
              "      <td>100.0</td>\n",
              "      <td>17.4</td>\n",
              "      <td>15.7</td>\n",
              "      <td>26.4</td>\n",
              "      <td>23.1</td>\n",
              "      <td>33.5</td>\n",
              "      <td>9.5</td>\n",
              "      <td>NaN</td>\n",
              "      <td>NaN</td>\n",
              "      <td>NaN</td>\n",
              "      <td>NaN</td>\n",
              "      <td>NaN</td>\n",
              "      <td>NaN</td>\n",
              "    </tr>\n",
              "    <tr>\n",
              "      <th>2011-07-01</th>\n",
              "      <td>100.0</td>\n",
              "      <td>18.1</td>\n",
              "      <td>20.7</td>\n",
              "      <td>22.3</td>\n",
              "      <td>27.1</td>\n",
              "      <td>11.2</td>\n",
              "      <td>NaN</td>\n",
              "      <td>NaN</td>\n",
              "      <td>NaN</td>\n",
              "      <td>NaN</td>\n",
              "      <td>NaN</td>\n",
              "      <td>NaN</td>\n",
              "      <td>NaN</td>\n",
              "    </tr>\n",
              "    <tr>\n",
              "      <th>2011-08-01</th>\n",
              "      <td>100.0</td>\n",
              "      <td>20.7</td>\n",
              "      <td>24.9</td>\n",
              "      <td>24.3</td>\n",
              "      <td>12.4</td>\n",
              "      <td>NaN</td>\n",
              "      <td>NaN</td>\n",
              "      <td>NaN</td>\n",
              "      <td>NaN</td>\n",
              "      <td>NaN</td>\n",
              "      <td>NaN</td>\n",
              "      <td>NaN</td>\n",
              "      <td>NaN</td>\n",
              "    </tr>\n",
              "    <tr>\n",
              "      <th>2011-09-01</th>\n",
              "      <td>100.0</td>\n",
              "      <td>23.4</td>\n",
              "      <td>30.1</td>\n",
              "      <td>11.4</td>\n",
              "      <td>NaN</td>\n",
              "      <td>NaN</td>\n",
              "      <td>NaN</td>\n",
              "      <td>NaN</td>\n",
              "      <td>NaN</td>\n",
              "      <td>NaN</td>\n",
              "      <td>NaN</td>\n",
              "      <td>NaN</td>\n",
              "      <td>NaN</td>\n",
              "    </tr>\n",
              "    <tr>\n",
              "      <th>2011-10-01</th>\n",
              "      <td>100.0</td>\n",
              "      <td>24.0</td>\n",
              "      <td>11.5</td>\n",
              "      <td>NaN</td>\n",
              "      <td>NaN</td>\n",
              "      <td>NaN</td>\n",
              "      <td>NaN</td>\n",
              "      <td>NaN</td>\n",
              "      <td>NaN</td>\n",
              "      <td>NaN</td>\n",
              "      <td>NaN</td>\n",
              "      <td>NaN</td>\n",
              "      <td>NaN</td>\n",
              "    </tr>\n",
              "    <tr>\n",
              "      <th>2011-11-01</th>\n",
              "      <td>100.0</td>\n",
              "      <td>11.1</td>\n",
              "      <td>NaN</td>\n",
              "      <td>NaN</td>\n",
              "      <td>NaN</td>\n",
              "      <td>NaN</td>\n",
              "      <td>NaN</td>\n",
              "      <td>NaN</td>\n",
              "      <td>NaN</td>\n",
              "      <td>NaN</td>\n",
              "      <td>NaN</td>\n",
              "      <td>NaN</td>\n",
              "      <td>NaN</td>\n",
              "    </tr>\n",
              "    <tr>\n",
              "      <th>2011-12-01</th>\n",
              "      <td>100.0</td>\n",
              "      <td>NaN</td>\n",
              "      <td>NaN</td>\n",
              "      <td>NaN</td>\n",
              "      <td>NaN</td>\n",
              "      <td>NaN</td>\n",
              "      <td>NaN</td>\n",
              "      <td>NaN</td>\n",
              "      <td>NaN</td>\n",
              "      <td>NaN</td>\n",
              "      <td>NaN</td>\n",
              "      <td>NaN</td>\n",
              "      <td>NaN</td>\n",
              "    </tr>\n",
              "  </tbody>\n",
              "</table>\n",
              "</div>"
            ],
            "text/plain": [
              "CohortIndex     1     2     3     4     5   ...    9     10    11    12    13\n",
              "CohortMonth                                 ...                              \n",
              "2010-12-01   100.0  36.6  32.3  38.4  36.3  ...  35.4  39.5  37.4  50.3  26.6\n",
              "2011-01-01   100.0  22.1  26.6  23.0  32.1  ...  30.0  32.6  36.5  11.8   NaN\n",
              "2011-02-01   100.0  18.7  18.7  28.4  27.1  ...  24.7  30.5   6.8   NaN   NaN\n",
              "2011-03-01   100.0  15.0  25.2  19.9  22.3  ...  27.9   8.6   NaN   NaN   NaN\n",
              "2011-04-01   100.0  21.3  20.3  21.0  19.7  ...   7.3   NaN   NaN   NaN   NaN\n",
              "2011-05-01   100.0  19.0  17.3  17.3  20.8  ...   NaN   NaN   NaN   NaN   NaN\n",
              "2011-06-01   100.0  17.4  15.7  26.4  23.1  ...   NaN   NaN   NaN   NaN   NaN\n",
              "2011-07-01   100.0  18.1  20.7  22.3  27.1  ...   NaN   NaN   NaN   NaN   NaN\n",
              "2011-08-01   100.0  20.7  24.9  24.3  12.4  ...   NaN   NaN   NaN   NaN   NaN\n",
              "2011-09-01   100.0  23.4  30.1  11.4   NaN  ...   NaN   NaN   NaN   NaN   NaN\n",
              "2011-10-01   100.0  24.0  11.5   NaN   NaN  ...   NaN   NaN   NaN   NaN   NaN\n",
              "2011-11-01   100.0  11.1   NaN   NaN   NaN  ...   NaN   NaN   NaN   NaN   NaN\n",
              "2011-12-01   100.0   NaN   NaN   NaN   NaN  ...   NaN   NaN   NaN   NaN   NaN\n",
              "\n",
              "[13 rows x 13 columns]"
            ]
          },
          "metadata": {
            "tags": []
          },
          "execution_count": 26
        }
      ]
    },
    {
      "cell_type": "code",
      "metadata": {
        "id": "T5EcqBBquUFn",
        "colab_type": "code",
        "colab": {
          "base_uri": "https://localhost:8080/"
        },
        "outputId": "29215e79-913b-4780-f41b-ecaa3a79ba29"
      },
      "source": [
        "#Build the heatmap\n",
        "plt.figure(figsize=(15, 8))\n",
        "plt.title('Retention rates')\n",
        "sns.heatmap(data=retention,annot = True,fmt = '.0%',vmin = 0.0,vmax = 0.5,cmap=\"BuPu_r\")\n",
        "plt.show()\n"
      ],
      "execution_count": null,
      "outputs": [
        {
          "output_type": "display_data",
          "data": {
            "image/png": "[encoded data removed]",
            "text/plain": [
              "<Figure size 1080x576 with 2 Axes>"
            ]
          },
          "metadata": {
            "tags": [],
            "needs_background": "light"
          }
        }
      ]
    },
    {
      "cell_type": "markdown",
      "metadata": {
        "id": "iA_TlTs9ruhW",
        "colab_type": "text"
      },
      "source": [
        "Customer retention is a very useful metric to understand how many of the all customers are still active.Retention gives you the percentage of active customers compared to the total number of customers."
      ]
    },
    {
      "cell_type": "markdown",
      "metadata": {
        "id": "CVvQbNCByP4D",
        "colab_type": "text"
      },
      "source": [
        "## 3.3Average quantity for each cohort"
      ]
    },
    {
      "cell_type": "markdown",
      "metadata": {
        "id": "8gFyVTB5yurM",
        "colab_type": "text"
      },
      "source": [
        "Another useful metric for behavioural analytics and customer analytics is to calculate tha average quantity of products that customers buy in the E-Commerce store and visualise it in similar cohort table like above for the retention analytics."
      ]
    },
    {
      "cell_type": "code",
      "metadata": {
        "id": "PgkFtBieuX63",
        "colab_type": "code",
        "colab": {
          "base_uri": "https://localhost:8080/"
        },
        "outputId": "1c9c5e09-1722-45db-c51c-19a12daba578"
      },
      "source": [
        "#Average quantity for each cohort\n",
        "grouping = df.groupby(['CohortMonth', 'CohortIndex'])\n",
        "cohort_data = grouping['Quantity'].mean()\n",
        "cohort_data = cohort_data.reset_index()\n",
        "average_quantity = cohort_data.pivot(index='CohortMonth',columns='CohortIndex',values='Quantity')\n",
        "average_quantity.round(1)\n",
        "average_quantity.index = average_quantity.index.date\n",
        "\n",
        "#Build the heatmap\n",
        "plt.figure(figsize=(15, 8))\n",
        "plt.title('Average quantity for each cohort')\n",
        "sns.heatmap(data=average_quantity,annot = True,vmin = 0.0,vmax =20,cmap=\"BuGn_r\")\n",
        "plt.show()"
      ],
      "execution_count": null,
      "outputs": [
        {
          "output_type": "display_data",
          "data": {
            "image/png": "[encoded data removed]",
            "text/plain": [
              "<Figure size 1080x576 with 2 Axes>"
            ]
          },
          "metadata": {
            "tags": [],
            "needs_background": "light"
          }
        }
      ]
    },
    {
      "cell_type": "markdown",
      "metadata": {
        "id": "5Vpkcv1cyZ0U",
        "colab_type": "text"
      },
      "source": [
        "## 3.4Creating RFM fields"
      ]
    },
    {
      "cell_type": "markdown",
      "metadata": {
        "id": "CAzv7mlHydC8",
        "colab_type": "text"
      },
      "source": [
        "**RFM can be done in many ways but we are using\n",
        " percentile-based grouping.**\n",
        "\n",
        "*Process of calculating percentiles:*\n",
        "\n",
        "1. Sort customers based on that metric\n",
        "2.Break customers into a pre-defined number of groups of equal size\n",
        "3. Assign a label to each group"
      ]
    },
    {
      "cell_type": "code",
      "metadata": {
        "id": "nm_pXJ7WugbT",
        "colab_type": "code",
        "colab": {
          "base_uri": "https://localhost:8080/",
          "height": 245
        },
        "outputId": "463cd71e-87b0-4cbe-aeb9-3698d5bd9c58"
      },
      "source": [
        "#New Total Sum Column  \n",
        "df['TotalSum'] = df['UnitPrice']* df['Quantity']\n",
        "\n",
        "#Data preparation steps\n",
        "print('Min Invoice Date:',df.InvoiceDate.dt.date.min(),'max Invoice Date:',\n",
        "       df.InvoiceDate.dt.date.max())\n",
        "\n",
        "df.head(3)"
      ],
      "execution_count": null,
      "outputs": [
        {
          "output_type": "stream",
          "text": [
            "Min Invoice Date: 2010-12-01 max Invoice Date: 2011-12-09\n"
          ],
          "name": "stdout"
        },
        {
          "output_type": "execute_result",
          "data": {
            "text/html": [
              "<div>\n",
              "<style scoped>\n",
              "    .dataframe tbody tr th:only-of-type {\n",
              "        vertical-align: middle;\n",
              "    }\n",
              "\n",
              "    .dataframe tbody tr th {\n",
              "        vertical-align: top;\n",
              "    }\n",
              "\n",
              "    .dataframe thead th {\n",
              "        text-align: right;\n",
              "    }\n",
              "</style>\n",
              "<table border=\"1\" class=\"dataframe\">\n",
              "  <thead>\n",
              "    <tr style=\"text-align: right;\">\n",
              "      <th></th>\n",
              "      <th>InvoiceNo</th>\n",
              "      <th>StockCode</th>\n",
              "      <th>Description</th>\n",
              "      <th>Quantity</th>\n",
              "      <th>InvoiceDate</th>\n",
              "      <th>UnitPrice</th>\n",
              "      <th>CustomerID</th>\n",
              "      <th>Country</th>\n",
              "      <th>InvoiceMonth</th>\n",
              "      <th>CohortMonth</th>\n",
              "      <th>CohortIndex</th>\n",
              "      <th>TotalSum</th>\n",
              "    </tr>\n",
              "  </thead>\n",
              "  <tbody>\n",
              "    <tr>\n",
              "      <th>0</th>\n",
              "      <td>536365</td>\n",
              "      <td>85123A</td>\n",
              "      <td>WHITE HANGING HEART T-LIGHT HOLDER</td>\n",
              "      <td>6</td>\n",
              "      <td>2010-12-01 08:26:00</td>\n",
              "      <td>2.55</td>\n",
              "      <td>17850.0</td>\n",
              "      <td>United Kingdom</td>\n",
              "      <td>2010-12-01</td>\n",
              "      <td>2010-12-01</td>\n",
              "      <td>1</td>\n",
              "      <td>15.30</td>\n",
              "    </tr>\n",
              "    <tr>\n",
              "      <th>1</th>\n",
              "      <td>536365</td>\n",
              "      <td>71053</td>\n",
              "      <td>WHITE METAL LANTERN</td>\n",
              "      <td>6</td>\n",
              "      <td>2010-12-01 08:26:00</td>\n",
              "      <td>3.39</td>\n",
              "      <td>17850.0</td>\n",
              "      <td>United Kingdom</td>\n",
              "      <td>2010-12-01</td>\n",
              "      <td>2010-12-01</td>\n",
              "      <td>1</td>\n",
              "      <td>20.34</td>\n",
              "    </tr>\n",
              "    <tr>\n",
              "      <th>2</th>\n",
              "      <td>536365</td>\n",
              "      <td>84406B</td>\n",
              "      <td>CREAM CUPID HEARTS COAT HANGER</td>\n",
              "      <td>8</td>\n",
              "      <td>2010-12-01 08:26:00</td>\n",
              "      <td>2.75</td>\n",
              "      <td>17850.0</td>\n",
              "      <td>United Kingdom</td>\n",
              "      <td>2010-12-01</td>\n",
              "      <td>2010-12-01</td>\n",
              "      <td>1</td>\n",
              "      <td>22.00</td>\n",
              "    </tr>\n",
              "  </tbody>\n",
              "</table>\n",
              "</div>"
            ],
            "text/plain": [
              "  InvoiceNo StockCode  ... CohortIndex  TotalSum\n",
              "0    536365    85123A  ...           1     15.30\n",
              "1    536365     71053  ...           1     20.34\n",
              "2    536365    84406B  ...           1     22.00\n",
              "\n",
              "[3 rows x 12 columns]"
            ]
          },
          "metadata": {
            "tags": []
          },
          "execution_count": 29
        }
      ]
    },
    {
      "cell_type": "code",
      "metadata": {
        "id": "ezu2AN6-uu-8",
        "colab_type": "code",
        "colab": {
          "base_uri": "https://localhost:8080/",
          "height": 35
        },
        "outputId": "b48d4e08-d3da-4bc8-e28f-dae4d1de46bf"
      },
      "source": [
        "snapshot_date = df['InvoiceDate'].max() + dt.timedelta(days=1)\n",
        "snapshot_date\n",
        "#The last day of purchase in total is 09 DEC, 2011. To calculate the day periods, \n",
        "#let's set one day after the last one,or \n",
        "#10 DEC as a snapshot_date. We will cound the diff days with snapshot_date."
      ],
      "execution_count": null,
      "outputs": [
        {
          "output_type": "execute_result",
          "data": {
            "text/plain": [
              "Timestamp('2011-12-10 12:50:00')"
            ]
          },
          "metadata": {
            "tags": []
          },
          "execution_count": 30
        }
      ]
    },
    {
      "cell_type": "code",
      "metadata": {
        "id": "GlYZHV5ouztf",
        "colab_type": "code",
        "colab": {
          "base_uri": "https://localhost:8080/",
          "height": 233
        },
        "outputId": "285801fd-2573-4185-d760-99068586dd44"
      },
      "source": [
        "# Calculate RFM metrics\n",
        "rfm = df.groupby(['CustomerID']).agg({'InvoiceDate': lambda x : (snapshot_date - x.max()).days,\n",
        "                                      'InvoiceNo':'count','TotalSum': 'sum'})\n",
        "#Function Lambdea: it gives the number of days between hypothetical today and the last transaction\n",
        "\n",
        "#Rename columns\n",
        "rfm.rename(columns={'InvoiceDate':'Recency','InvoiceNo':'Frequency','TotalSum':'MonetaryValue'}\n",
        "           ,inplace= True)\n",
        "\n",
        "#Final RFM values\n",
        "rfm.head()"
      ],
      "execution_count": null,
      "outputs": [
        {
          "output_type": "execute_result",
          "data": {
            "text/html": [
              "<div>\n",
              "<style scoped>\n",
              "    .dataframe tbody tr th:only-of-type {\n",
              "        vertical-align: middle;\n",
              "    }\n",
              "\n",
              "    .dataframe tbody tr th {\n",
              "        vertical-align: top;\n",
              "    }\n",
              "\n",
              "    .dataframe thead th {\n",
              "        text-align: right;\n",
              "    }\n",
              "</style>\n",
              "<table border=\"1\" class=\"dataframe\">\n",
              "  <thead>\n",
              "    <tr style=\"text-align: right;\">\n",
              "      <th></th>\n",
              "      <th>Recency</th>\n",
              "      <th>Frequency</th>\n",
              "      <th>MonetaryValue</th>\n",
              "    </tr>\n",
              "    <tr>\n",
              "      <th>CustomerID</th>\n",
              "      <th></th>\n",
              "      <th></th>\n",
              "      <th></th>\n",
              "    </tr>\n",
              "  </thead>\n",
              "  <tbody>\n",
              "    <tr>\n",
              "      <th>12346.0</th>\n",
              "      <td>326</td>\n",
              "      <td>1</td>\n",
              "      <td>77183.60</td>\n",
              "    </tr>\n",
              "    <tr>\n",
              "      <th>12347.0</th>\n",
              "      <td>2</td>\n",
              "      <td>182</td>\n",
              "      <td>4310.00</td>\n",
              "    </tr>\n",
              "    <tr>\n",
              "      <th>12348.0</th>\n",
              "      <td>75</td>\n",
              "      <td>31</td>\n",
              "      <td>1797.24</td>\n",
              "    </tr>\n",
              "    <tr>\n",
              "      <th>12349.0</th>\n",
              "      <td>19</td>\n",
              "      <td>73</td>\n",
              "      <td>1757.55</td>\n",
              "    </tr>\n",
              "    <tr>\n",
              "      <th>12350.0</th>\n",
              "      <td>310</td>\n",
              "      <td>17</td>\n",
              "      <td>334.40</td>\n",
              "    </tr>\n",
              "  </tbody>\n",
              "</table>\n",
              "</div>"
            ],
            "text/plain": [
              "            Recency  Frequency  MonetaryValue\n",
              "CustomerID                                   \n",
              "12346.0         326          1       77183.60\n",
              "12347.0           2        182        4310.00\n",
              "12348.0          75         31        1797.24\n",
              "12349.0          19         73        1757.55\n",
              "12350.0         310         17         334.40"
            ]
          },
          "metadata": {
            "tags": []
          },
          "execution_count": 31
        }
      ]
    },
    {
      "cell_type": "markdown",
      "metadata": {
        "id": "8erHDCgxzGBj",
        "colab_type": "text"
      },
      "source": [
        "let's create three separate groups based on Recency, Frequency and Monetary Value of customers."
      ]
    },
    {
      "cell_type": "code",
      "metadata": {
        "id": "GjjfeiSGu4Wf",
        "colab_type": "code",
        "colab": {
          "base_uri": "https://localhost:8080/",
          "height": 233
        },
        "outputId": "ce874c05-dd73-42d1-f68a-2c1858937c0b"
      },
      "source": [
        "#Building RFM segments\n",
        "r_labels =range(4,0,-1)\n",
        "f_labels=range(1,5)\n",
        "m_labels=range(1,5)\n",
        "r_quartiles = pd.qcut(rfm['Recency'], q=4, labels = r_labels)\n",
        "f_quartiles = pd.qcut(rfm['Frequency'],q=4, labels = f_labels)\n",
        "m_quartiles = pd.qcut(rfm['MonetaryValue'],q=4,labels = m_labels)\n",
        "rfm = rfm.assign(R=r_quartiles,F=f_quartiles,M=m_quartiles)\n",
        "\n",
        "# Build RFM Segment and RFM Score\n",
        "def add_rfm(x) : return str(x['R']) + str(x['F']) + str(x['M'])\n",
        "rfm['RFM_Segment'] = rfm.apply(add_rfm,axis=1 )\n",
        "rfm['RFM_Score'] = rfm[['R','F','M']].sum(axis=1)\n",
        "\n",
        "rfm.head()"
      ],
      "execution_count": null,
      "outputs": [
        {
          "output_type": "execute_result",
          "data": {
            "text/html": [
              "<div>\n",
              "<style scoped>\n",
              "    .dataframe tbody tr th:only-of-type {\n",
              "        vertical-align: middle;\n",
              "    }\n",
              "\n",
              "    .dataframe tbody tr th {\n",
              "        vertical-align: top;\n",
              "    }\n",
              "\n",
              "    .dataframe thead th {\n",
              "        text-align: right;\n",
              "    }\n",
              "</style>\n",
              "<table border=\"1\" class=\"dataframe\">\n",
              "  <thead>\n",
              "    <tr style=\"text-align: right;\">\n",
              "      <th></th>\n",
              "      <th>Recency</th>\n",
              "      <th>Frequency</th>\n",
              "      <th>MonetaryValue</th>\n",
              "      <th>R</th>\n",
              "      <th>F</th>\n",
              "      <th>M</th>\n",
              "      <th>RFM_Segment</th>\n",
              "      <th>RFM_Score</th>\n",
              "    </tr>\n",
              "    <tr>\n",
              "      <th>CustomerID</th>\n",
              "      <th></th>\n",
              "      <th></th>\n",
              "      <th></th>\n",
              "      <th></th>\n",
              "      <th></th>\n",
              "      <th></th>\n",
              "      <th></th>\n",
              "      <th></th>\n",
              "    </tr>\n",
              "  </thead>\n",
              "  <tbody>\n",
              "    <tr>\n",
              "      <th>12346.0</th>\n",
              "      <td>326</td>\n",
              "      <td>1</td>\n",
              "      <td>77183.60</td>\n",
              "      <td>1</td>\n",
              "      <td>1</td>\n",
              "      <td>4</td>\n",
              "      <td>114</td>\n",
              "      <td>6.0</td>\n",
              "    </tr>\n",
              "    <tr>\n",
              "      <th>12347.0</th>\n",
              "      <td>2</td>\n",
              "      <td>182</td>\n",
              "      <td>4310.00</td>\n",
              "      <td>4</td>\n",
              "      <td>4</td>\n",
              "      <td>4</td>\n",
              "      <td>444</td>\n",
              "      <td>12.0</td>\n",
              "    </tr>\n",
              "    <tr>\n",
              "      <th>12348.0</th>\n",
              "      <td>75</td>\n",
              "      <td>31</td>\n",
              "      <td>1797.24</td>\n",
              "      <td>2</td>\n",
              "      <td>2</td>\n",
              "      <td>4</td>\n",
              "      <td>224</td>\n",
              "      <td>8.0</td>\n",
              "    </tr>\n",
              "    <tr>\n",
              "      <th>12349.0</th>\n",
              "      <td>19</td>\n",
              "      <td>73</td>\n",
              "      <td>1757.55</td>\n",
              "      <td>3</td>\n",
              "      <td>3</td>\n",
              "      <td>4</td>\n",
              "      <td>334</td>\n",
              "      <td>10.0</td>\n",
              "    </tr>\n",
              "    <tr>\n",
              "      <th>12350.0</th>\n",
              "      <td>310</td>\n",
              "      <td>17</td>\n",
              "      <td>334.40</td>\n",
              "      <td>1</td>\n",
              "      <td>1</td>\n",
              "      <td>2</td>\n",
              "      <td>112</td>\n",
              "      <td>4.0</td>\n",
              "    </tr>\n",
              "  </tbody>\n",
              "</table>\n",
              "</div>"
            ],
            "text/plain": [
              "            Recency  Frequency  MonetaryValue  R  F  M RFM_Segment  RFM_Score\n",
              "CustomerID                                                                   \n",
              "12346.0         326          1       77183.60  1  1  4         114        6.0\n",
              "12347.0           2        182        4310.00  4  4  4         444       12.0\n",
              "12348.0          75         31        1797.24  2  2  4         224        8.0\n",
              "12349.0          19         73        1757.55  3  3  4         334       10.0\n",
              "12350.0         310         17         334.40  1  1  2         112        4.0"
            ]
          },
          "metadata": {
            "tags": []
          },
          "execution_count": 32
        }
      ]
    },
    {
      "cell_type": "markdown",
      "metadata": {
        "id": "80hgdlCSzR1p",
        "colab_type": "text"
      },
      "source": [
        " RFM score is a simply sum of the Recency, Frequency and Monetary Values and this sum is a result of integer values like 10, 9, 8 and etc. This score will indicate the value of RFM score that will allow us to make decisions on a business product or on our customers. This is very important metric due to future decision-making process concerning the users or customers."
      ]
    },
    {
      "cell_type": "markdown",
      "metadata": {
        "id": "ipwg0b22yk5S",
        "colab_type": "text"
      },
      "source": [
        "## 3.5Analyzing RFM segmets"
      ]
    },
    {
      "cell_type": "code",
      "metadata": {
        "id": "Gtzm_Cxxu9hM",
        "colab_type": "code",
        "colab": {
          "base_uri": "https://localhost:8080/",
          "height": 139
        },
        "outputId": "58bbbb51-7dbc-4c18-a7a0-6b6fb5b7665f"
      },
      "source": [
        "rfm.groupby(['RFM_Segment']).size().sort_values(ascending=False)[:5]"
      ],
      "execution_count": null,
      "outputs": [
        {
          "output_type": "execute_result",
          "data": {
            "text/plain": [
              "RFM_Segment\n",
              "444    450\n",
              "111    381\n",
              "344    217\n",
              "122    206\n",
              "211    179\n",
              "dtype: int64"
            ]
          },
          "metadata": {
            "tags": []
          },
          "execution_count": 33
        }
      ]
    },
    {
      "cell_type": "markdown",
      "metadata": {
        "id": "nuf18Tltyp0q",
        "colab_type": "text"
      },
      "source": [
        "## 3.6filtering on RFM segments"
      ]
    },
    {
      "cell_type": "code",
      "metadata": {
        "id": "WYuBlptkvBl1",
        "colab_type": "code",
        "colab": {
          "base_uri": "https://localhost:8080/",
          "height": 233
        },
        "outputId": "a13e330a-d30f-4603-e529-563b2e1d43f7"
      },
      "source": [
        "#Select bottom RFM segment \"111\" and view top 5 rows\n",
        "rfm[rfm['RFM_Segment']=='111'].head()"
      ],
      "execution_count": null,
      "outputs": [
        {
          "output_type": "execute_result",
          "data": {
            "text/html": [
              "<div>\n",
              "<style scoped>\n",
              "    .dataframe tbody tr th:only-of-type {\n",
              "        vertical-align: middle;\n",
              "    }\n",
              "\n",
              "    .dataframe tbody tr th {\n",
              "        vertical-align: top;\n",
              "    }\n",
              "\n",
              "    .dataframe thead th {\n",
              "        text-align: right;\n",
              "    }\n",
              "</style>\n",
              "<table border=\"1\" class=\"dataframe\">\n",
              "  <thead>\n",
              "    <tr style=\"text-align: right;\">\n",
              "      <th></th>\n",
              "      <th>Recency</th>\n",
              "      <th>Frequency</th>\n",
              "      <th>MonetaryValue</th>\n",
              "      <th>R</th>\n",
              "      <th>F</th>\n",
              "      <th>M</th>\n",
              "      <th>RFM_Segment</th>\n",
              "      <th>RFM_Score</th>\n",
              "    </tr>\n",
              "    <tr>\n",
              "      <th>CustomerID</th>\n",
              "      <th></th>\n",
              "      <th></th>\n",
              "      <th></th>\n",
              "      <th></th>\n",
              "      <th></th>\n",
              "      <th></th>\n",
              "      <th></th>\n",
              "      <th></th>\n",
              "    </tr>\n",
              "  </thead>\n",
              "  <tbody>\n",
              "    <tr>\n",
              "      <th>12353.0</th>\n",
              "      <td>204</td>\n",
              "      <td>4</td>\n",
              "      <td>89.00</td>\n",
              "      <td>1</td>\n",
              "      <td>1</td>\n",
              "      <td>1</td>\n",
              "      <td>111</td>\n",
              "      <td>3.0</td>\n",
              "    </tr>\n",
              "    <tr>\n",
              "      <th>12361.0</th>\n",
              "      <td>287</td>\n",
              "      <td>10</td>\n",
              "      <td>189.90</td>\n",
              "      <td>1</td>\n",
              "      <td>1</td>\n",
              "      <td>1</td>\n",
              "      <td>111</td>\n",
              "      <td>3.0</td>\n",
              "    </tr>\n",
              "    <tr>\n",
              "      <th>12401.0</th>\n",
              "      <td>303</td>\n",
              "      <td>5</td>\n",
              "      <td>84.30</td>\n",
              "      <td>1</td>\n",
              "      <td>1</td>\n",
              "      <td>1</td>\n",
              "      <td>111</td>\n",
              "      <td>3.0</td>\n",
              "    </tr>\n",
              "    <tr>\n",
              "      <th>12402.0</th>\n",
              "      <td>323</td>\n",
              "      <td>11</td>\n",
              "      <td>225.60</td>\n",
              "      <td>1</td>\n",
              "      <td>1</td>\n",
              "      <td>1</td>\n",
              "      <td>111</td>\n",
              "      <td>3.0</td>\n",
              "    </tr>\n",
              "    <tr>\n",
              "      <th>12441.0</th>\n",
              "      <td>367</td>\n",
              "      <td>11</td>\n",
              "      <td>173.55</td>\n",
              "      <td>1</td>\n",
              "      <td>1</td>\n",
              "      <td>1</td>\n",
              "      <td>111</td>\n",
              "      <td>3.0</td>\n",
              "    </tr>\n",
              "  </tbody>\n",
              "</table>\n",
              "</div>"
            ],
            "text/plain": [
              "            Recency  Frequency  MonetaryValue  R  F  M RFM_Segment  RFM_Score\n",
              "CustomerID                                                                   \n",
              "12353.0         204          4          89.00  1  1  1         111        3.0\n",
              "12361.0         287         10         189.90  1  1  1         111        3.0\n",
              "12401.0         303          5          84.30  1  1  1         111        3.0\n",
              "12402.0         323         11         225.60  1  1  1         111        3.0\n",
              "12441.0         367         11         173.55  1  1  1         111        3.0"
            ]
          },
          "metadata": {
            "tags": []
          },
          "execution_count": 34
        }
      ]
    },
    {
      "cell_type": "markdown",
      "metadata": {
        "id": "Ha4Rw9yjy96N",
        "colab_type": "text"
      },
      "source": [
        "###3.6.1Summary metrics per RFM Score"
      ]
    },
    {
      "cell_type": "code",
      "metadata": {
        "id": "mQq2egs2vFEO",
        "colab_type": "code",
        "colab": {
          "base_uri": "https://localhost:8080/",
          "height": 417
        },
        "outputId": "5448f969-8338-4e5b-a415-0832fd70d41e"
      },
      "source": [
        "rfm.groupby('RFM_Score').agg({'Recency': 'mean','Frequency': 'mean',\n",
        "                             'MonetaryValue': ['mean', 'count'] }).round(1)"
      ],
      "execution_count": null,
      "outputs": [
        {
          "output_type": "execute_result",
          "data": {
            "text/html": [
              "<div>\n",
              "<style scoped>\n",
              "    .dataframe tbody tr th:only-of-type {\n",
              "        vertical-align: middle;\n",
              "    }\n",
              "\n",
              "    .dataframe tbody tr th {\n",
              "        vertical-align: top;\n",
              "    }\n",
              "\n",
              "    .dataframe thead tr th {\n",
              "        text-align: left;\n",
              "    }\n",
              "\n",
              "    .dataframe thead tr:last-of-type th {\n",
              "        text-align: right;\n",
              "    }\n",
              "</style>\n",
              "<table border=\"1\" class=\"dataframe\">\n",
              "  <thead>\n",
              "    <tr>\n",
              "      <th></th>\n",
              "      <th>Recency</th>\n",
              "      <th>Frequency</th>\n",
              "      <th colspan=\"2\" halign=\"left\">MonetaryValue</th>\n",
              "    </tr>\n",
              "    <tr>\n",
              "      <th></th>\n",
              "      <th>mean</th>\n",
              "      <th>mean</th>\n",
              "      <th>mean</th>\n",
              "      <th>count</th>\n",
              "    </tr>\n",
              "    <tr>\n",
              "      <th>RFM_Score</th>\n",
              "      <th></th>\n",
              "      <th></th>\n",
              "      <th></th>\n",
              "      <th></th>\n",
              "    </tr>\n",
              "  </thead>\n",
              "  <tbody>\n",
              "    <tr>\n",
              "      <th>3.0</th>\n",
              "      <td>260.7</td>\n",
              "      <td>8.2</td>\n",
              "      <td>157.4</td>\n",
              "      <td>381</td>\n",
              "    </tr>\n",
              "    <tr>\n",
              "      <th>4.0</th>\n",
              "      <td>177.2</td>\n",
              "      <td>13.6</td>\n",
              "      <td>240.0</td>\n",
              "      <td>388</td>\n",
              "    </tr>\n",
              "    <tr>\n",
              "      <th>5.0</th>\n",
              "      <td>152.9</td>\n",
              "      <td>21.2</td>\n",
              "      <td>366.6</td>\n",
              "      <td>518</td>\n",
              "    </tr>\n",
              "    <tr>\n",
              "      <th>6.0</th>\n",
              "      <td>95.9</td>\n",
              "      <td>27.9</td>\n",
              "      <td>820.8</td>\n",
              "      <td>457</td>\n",
              "    </tr>\n",
              "    <tr>\n",
              "      <th>7.0</th>\n",
              "      <td>79.6</td>\n",
              "      <td>38.0</td>\n",
              "      <td>758.1</td>\n",
              "      <td>463</td>\n",
              "    </tr>\n",
              "    <tr>\n",
              "      <th>8.0</th>\n",
              "      <td>64.1</td>\n",
              "      <td>56.0</td>\n",
              "      <td>987.3</td>\n",
              "      <td>454</td>\n",
              "    </tr>\n",
              "    <tr>\n",
              "      <th>9.0</th>\n",
              "      <td>45.9</td>\n",
              "      <td>78.7</td>\n",
              "      <td>1795.1</td>\n",
              "      <td>414</td>\n",
              "    </tr>\n",
              "    <tr>\n",
              "      <th>10.0</th>\n",
              "      <td>32.4</td>\n",
              "      <td>110.5</td>\n",
              "      <td>2056.4</td>\n",
              "      <td>426</td>\n",
              "    </tr>\n",
              "    <tr>\n",
              "      <th>11.0</th>\n",
              "      <td>21.3</td>\n",
              "      <td>186.9</td>\n",
              "      <td>4062.0</td>\n",
              "      <td>387</td>\n",
              "    </tr>\n",
              "    <tr>\n",
              "      <th>12.0</th>\n",
              "      <td>7.2</td>\n",
              "      <td>367.8</td>\n",
              "      <td>9285.9</td>\n",
              "      <td>450</td>\n",
              "    </tr>\n",
              "  </tbody>\n",
              "</table>\n",
              "</div>"
            ],
            "text/plain": [
              "          Recency Frequency MonetaryValue      \n",
              "             mean      mean          mean count\n",
              "RFM_Score                                      \n",
              "3.0         260.7       8.2         157.4   381\n",
              "4.0         177.2      13.6         240.0   388\n",
              "5.0         152.9      21.2         366.6   518\n",
              "6.0          95.9      27.9         820.8   457\n",
              "7.0          79.6      38.0         758.1   463\n",
              "8.0          64.1      56.0         987.3   454\n",
              "9.0          45.9      78.7        1795.1   414\n",
              "10.0         32.4     110.5        2056.4   426\n",
              "11.0         21.3     186.9        4062.0   387\n",
              "12.0          7.2     367.8        9285.9   450"
            ]
          },
          "metadata": {
            "tags": []
          },
          "execution_count": 35
        }
      ]
    },
    {
      "cell_type": "markdown",
      "metadata": {
        "id": "BWp_AG-ZzGZl",
        "colab_type": "text"
      },
      "source": [
        "###3.6.2Use RFM score to group customers into Gold, Silver and Bronze segments:"
      ]
    },
    {
      "cell_type": "code",
      "metadata": {
        "id": "VaLg_pWTvIm8",
        "colab_type": "code",
        "colab": {
          "base_uri": "https://localhost:8080/",
          "height": 202
        },
        "outputId": "e2e5ba9d-2281-471f-d4bd-fd9d4f13b871"
      },
      "source": [
        "def segments(df):\n",
        "    if df['RFM_Score'] > 9 :\n",
        "        return 'Gold'\n",
        "    elif (df['RFM_Score'] > 5) and (df['RFM_Score'] <= 9 ):\n",
        "        return 'Sliver'\n",
        "    else:  \n",
        "        return 'Bronze'\n",
        "\n",
        "rfm['General_Segment'] = rfm.apply(segments,axis=1)\n",
        "\n",
        "rfm.groupby('General_Segment').agg({'Recency':'mean','Frequency':'mean',\n",
        "                                    'MonetaryValue':['mean','count']}).round(1)"
      ],
      "execution_count": null,
      "outputs": [
        {
          "output_type": "execute_result",
          "data": {
            "text/html": [
              "<div>\n",
              "<style scoped>\n",
              "    .dataframe tbody tr th:only-of-type {\n",
              "        vertical-align: middle;\n",
              "    }\n",
              "\n",
              "    .dataframe tbody tr th {\n",
              "        vertical-align: top;\n",
              "    }\n",
              "\n",
              "    .dataframe thead tr th {\n",
              "        text-align: left;\n",
              "    }\n",
              "\n",
              "    .dataframe thead tr:last-of-type th {\n",
              "        text-align: right;\n",
              "    }\n",
              "</style>\n",
              "<table border=\"1\" class=\"dataframe\">\n",
              "  <thead>\n",
              "    <tr>\n",
              "      <th></th>\n",
              "      <th>Recency</th>\n",
              "      <th>Frequency</th>\n",
              "      <th colspan=\"2\" halign=\"left\">MonetaryValue</th>\n",
              "    </tr>\n",
              "    <tr>\n",
              "      <th></th>\n",
              "      <th>mean</th>\n",
              "      <th>mean</th>\n",
              "      <th>mean</th>\n",
              "      <th>count</th>\n",
              "    </tr>\n",
              "    <tr>\n",
              "      <th>General_Segment</th>\n",
              "      <th></th>\n",
              "      <th></th>\n",
              "      <th></th>\n",
              "      <th></th>\n",
              "    </tr>\n",
              "  </thead>\n",
              "  <tbody>\n",
              "    <tr>\n",
              "      <th>Bronze</th>\n",
              "      <td>192.2</td>\n",
              "      <td>15.1</td>\n",
              "      <td>266.5</td>\n",
              "      <td>1287</td>\n",
              "    </tr>\n",
              "    <tr>\n",
              "      <th>Gold</th>\n",
              "      <td>20.1</td>\n",
              "      <td>225.6</td>\n",
              "      <td>5246.8</td>\n",
              "      <td>1263</td>\n",
              "    </tr>\n",
              "    <tr>\n",
              "      <th>Sliver</th>\n",
              "      <td>72.0</td>\n",
              "      <td>49.4</td>\n",
              "      <td>1072.4</td>\n",
              "      <td>1788</td>\n",
              "    </tr>\n",
              "  </tbody>\n",
              "</table>\n",
              "</div>"
            ],
            "text/plain": [
              "                Recency Frequency MonetaryValue      \n",
              "                   mean      mean          mean count\n",
              "General_Segment                                      \n",
              "Bronze            192.2      15.1         266.5  1287\n",
              "Gold               20.1     225.6        5246.8  1263\n",
              "Sliver             72.0      49.4        1072.4  1788"
            ]
          },
          "metadata": {
            "tags": []
          },
          "execution_count": 36
        }
      ]
    },
    {
      "cell_type": "markdown",
      "metadata": {
        "id": "Y5Wj0XSKzPFg",
        "colab_type": "text"
      },
      "source": [
        "# 4.Data preprocessing for k-means cluster"
      ]
    },
    {
      "cell_type": "markdown",
      "metadata": {
        "id": "up1EjUPWzmg1",
        "colab_type": "text"
      },
      "source": [
        "There are some critical assumptions with K-Means algorithm before building it:\n",
        "\n",
        "1. All variable must have symmetrical distribution and should not be skewed.\n",
        "2. All variables should have the same or almost the same average values.\n",
        "3. All variables should have the same level of variance."
      ]
    },
    {
      "cell_type": "code",
      "metadata": {
        "id": "-GY8NZZ1vL-I",
        "colab_type": "code",
        "colab": {
          "base_uri": "https://localhost:8080/",
          "height": 173
        },
        "outputId": "9ceb16c1-eeb3-4e10-f400-a86e348d526d"
      },
      "source": [
        "rfm_rfm = rfm[['Recency','Frequency','MonetaryValue']]\n",
        "print(rfm_rfm.describe())"
      ],
      "execution_count": null,
      "outputs": [
        {
          "output_type": "stream",
          "text": [
            "           Recency    Frequency  MonetaryValue\n",
            "count  4338.000000  4338.000000    4338.000000\n",
            "mean     92.536422    90.523744    2048.688081\n",
            "std     100.014169   225.506968    8985.230220\n",
            "min       1.000000     1.000000       3.750000\n",
            "25%      18.000000    17.000000     306.482500\n",
            "50%      51.000000    41.000000     668.570000\n",
            "75%     142.000000    98.000000    1660.597500\n",
            "max     374.000000  7676.000000  280206.020000\n"
          ],
          "name": "stdout"
        }
      ]
    },
    {
      "cell_type": "markdown",
      "metadata": {
        "id": "XqCgsJ-SzUm6",
        "colab_type": "text"
      },
      "source": [
        "**From this table, we find this Problem: Mean and Variance are not Equal**\n",
        "\n",
        "*Solution: Scaling variables by using a scaler from scikit-learn library*"
      ]
    },
    {
      "cell_type": "code",
      "metadata": {
        "id": "90e9AwU4vPjW",
        "colab_type": "code",
        "colab": {
          "base_uri": "https://localhost:8080/",
          "height": 864
        },
        "outputId": "d6986be3-5a81-4db0-b0d6-15dcecb338ef"
      },
      "source": [
        "# plot the distribution of RFM values\n",
        "f,ax = plt.subplots(figsize=(10, 12))\n",
        "plt.subplot(3, 1, 1); sns.distplot(rfm.Recency, label = 'Recency')\n",
        "plt.subplot(3, 1, 2); sns.distplot(rfm.Frequency, label = 'Frequency')\n",
        "plt.subplot(3, 1, 3); sns.distplot(rfm.MonetaryValue, label = 'Monetary Value')\n",
        "plt.style.use('fivethirtyeight')\n",
        "plt.tight_layout()\n",
        "plt.show()"
      ],
      "execution_count": null,
      "outputs": [
        {
          "output_type": "display_data",
          "data": {
            "image/png": "[encoded data removed]",
            "text/plain": [
              "<Figure size 720x864 with 3 Axes>"
            ]
          },
          "metadata": {
            "tags": [],
            "needs_background": "light"
          }
        }
      ]
    },
    {
      "cell_type": "markdown",
      "metadata": {
        "id": "3e4k91oOzcK_",
        "colab_type": "text"
      },
      "source": [
        "As can be seen from the visual represenation of the RFM data. All metrics are right skewed and we need to get rid from skewness by applying either Log Transformation or Z-Transformation. I prefer to do the log transformation in such case because the data has no negative values and ideally prepared for this kind of method."
      ]
    },
    {
      "cell_type": "code",
      "metadata": {
        "id": "7tWNHuwXvSx2",
        "colab_type": "code",
        "colab": {
          "base_uri": "https://localhost:8080/",
          "height": 865
        },
        "outputId": "9993aab2-fa45-4dc4-855a-2c0f4b83b187"
      },
      "source": [
        "#Unskew the data with log transformation\n",
        "rfm_log = rfm[['Recency', 'Frequency', 'MonetaryValue']].apply(np.log, axis = 1).round(3)\n",
        "#or rfm_log = np.log(rfm_rfm)\n",
        "\n",
        "\n",
        "# plot the distribution of RFM values\n",
        "f,ax = plt.subplots(figsize=(10, 12))\n",
        "plt.subplot(3, 1, 1); sns.distplot(rfm_log.Recency, label = 'Recency')\n",
        "plt.subplot(3, 1, 2); sns.distplot(rfm_log.Frequency, label = 'Frequency')\n",
        "plt.subplot(3, 1, 3); sns.distplot(rfm_log.MonetaryValue, label = 'Monetary Value')\n",
        "plt.style.use('fivethirtyeight')\n",
        "plt.tight_layout()\n",
        "plt.show()"
      ],
      "execution_count": null,
      "outputs": [
        {
          "output_type": "display_data",
          "data": {
            "image/png": "[encoded data removed]",
            "text/plain": [
              "<Figure size 720x864 with 3 Axes>"
            ]
          },
          "metadata": {
            "tags": []
          }
        }
      ]
    },
    {
      "cell_type": "markdown",
      "metadata": {
        "id": "ipSGK2Xb0Uoh",
        "colab_type": "text"
      },
      "source": [
        "We can see that recency_log transformed metric is still do not have a good normal shape of distribution. \n",
        "\n",
        "so,i'll use standardscalar on log transformed data"
      ]
    },
    {
      "cell_type": "markdown",
      "metadata": {
        "id": "6dqCvCf7zhl8",
        "colab_type": "text"
      },
      "source": [
        "#5.Implementation of K-Means clustering"
      ]
    },
    {
      "cell_type": "markdown",
      "metadata": {
        "id": "k3e0DfRazk36",
        "colab_type": "text"
      },
      "source": [
        "## 5.1Data preprocessing"
      ]
    },
    {
      "cell_type": "code",
      "metadata": {
        "id": "bDr44D0FvYTN",
        "colab_type": "code",
        "colab": {}
      },
      "source": [
        "#Normalize the variables with StandardScaler\n",
        "from sklearn.preprocessing import StandardScaler\n",
        "scaler = StandardScaler()\n",
        "scaler.fit(rfm_log)\n",
        "#Store it separately for clustering\n",
        "rfm_normalized= scaler.transform(rfm_log)"
      ],
      "execution_count": null,
      "outputs": []
    },
    {
      "cell_type": "markdown",
      "metadata": {
        "id": "4voH4xMMzrUF",
        "colab_type": "text"
      },
      "source": [
        "## 5.2Choosing no.of clusters"
      ]
    },
    {
      "cell_type": "code",
      "metadata": {
        "id": "YJcsWuc-vgee",
        "colab_type": "code",
        "colab": {
          "base_uri": "https://localhost:8080/",
          "height": 554
        },
        "outputId": "be04a086-5249-43eb-d846-478e55f63de8"
      },
      "source": [
        "from sklearn.cluster import KMeans\n",
        "\n",
        "#First : Get the Best KMeans \n",
        "ks = range(1,8)\n",
        "inertias=[]\n",
        "for k in ks :\n",
        "    # Create a KMeans clusters\n",
        "    kc = KMeans(n_clusters=k,random_state=1)\n",
        "    kc.fit(rfm_normalized)\n",
        "    inertias.append(kc.inertia_)\n",
        "\n",
        "# Plot ks vs inertias\n",
        "f, ax = plt.subplots(figsize=(15, 8))\n",
        "plt.plot(ks, inertias, '-o')\n",
        "plt.xlabel('Number of clusters, k')\n",
        "plt.ylabel('Inertia')\n",
        "plt.xticks(ks)\n",
        "plt.style.use('ggplot')\n",
        "plt.title('What is the Best Number for KMeans ?')\n",
        "plt.show()"
      ],
      "execution_count": null,
      "outputs": [
        {
          "output_type": "display_data",
          "data": {
            "image/png": "[encoded data removed]",
            "text/plain": [
              "<Figure size 1080x576 with 1 Axes>"
            ]
          },
          "metadata": {
            "tags": []
          }
        }
      ]
    },
    {
      "cell_type": "markdown",
      "metadata": {
        "id": "iNglCdISzxnJ",
        "colab_type": "text"
      },
      "source": [
        "**here,we are using no.of clusters=3**\n",
        "because The scope of the Elbow Method is to choose the number of cluster where the graph breaks. Ususally it is number 3 so 3 clusters must be in the algorithm. "
      ]
    },
    {
      "cell_type": "code",
      "metadata": {
        "id": "9L03PVy4vnk9",
        "colab_type": "code",
        "colab": {
          "base_uri": "https://localhost:8080/",
          "height": 202
        },
        "outputId": "7030131d-a6ff-4672-f349-24f03eddca22"
      },
      "source": [
        "# clustering\n",
        "kc = KMeans(n_clusters= 3, random_state=1)\n",
        "kc.fit(rfm_normalized)\n",
        "\n",
        "#Create a cluster label column in the original DataFrame\n",
        "cluster_labels = kc.labels_\n",
        "\n",
        "#Calculate average RFM values and size for each cluster:\n",
        "rfm_rfm_k3 = rfm_rfm.assign(K_Cluster = cluster_labels)\n",
        "\n",
        "#Calculate average RFM values and sizes for each cluster:\n",
        "rfm_rfm_k3.groupby('K_Cluster').agg({'Recency': 'mean','Frequency': 'mean',\n",
        "                                         'MonetaryValue': ['mean', 'count'],}).round(0)"
      ],
      "execution_count": null,
      "outputs": [
        {
          "output_type": "execute_result",
          "data": {
            "text/html": [
              "<div>\n",
              "<style scoped>\n",
              "    .dataframe tbody tr th:only-of-type {\n",
              "        vertical-align: middle;\n",
              "    }\n",
              "\n",
              "    .dataframe tbody tr th {\n",
              "        vertical-align: top;\n",
              "    }\n",
              "\n",
              "    .dataframe thead tr th {\n",
              "        text-align: left;\n",
              "    }\n",
              "\n",
              "    .dataframe thead tr:last-of-type th {\n",
              "        text-align: right;\n",
              "    }\n",
              "</style>\n",
              "<table border=\"1\" class=\"dataframe\">\n",
              "  <thead>\n",
              "    <tr>\n",
              "      <th></th>\n",
              "      <th>Recency</th>\n",
              "      <th>Frequency</th>\n",
              "      <th colspan=\"2\" halign=\"left\">MonetaryValue</th>\n",
              "    </tr>\n",
              "    <tr>\n",
              "      <th></th>\n",
              "      <th>mean</th>\n",
              "      <th>mean</th>\n",
              "      <th>mean</th>\n",
              "      <th>count</th>\n",
              "    </tr>\n",
              "    <tr>\n",
              "      <th>K_Cluster</th>\n",
              "      <th></th>\n",
              "      <th></th>\n",
              "      <th></th>\n",
              "      <th></th>\n",
              "    </tr>\n",
              "  </thead>\n",
              "  <tbody>\n",
              "    <tr>\n",
              "      <th>0</th>\n",
              "      <td>13.0</td>\n",
              "      <td>260.0</td>\n",
              "      <td>6554.0</td>\n",
              "      <td>957</td>\n",
              "    </tr>\n",
              "    <tr>\n",
              "      <th>1</th>\n",
              "      <td>69.0</td>\n",
              "      <td>65.0</td>\n",
              "      <td>1167.0</td>\n",
              "      <td>1858</td>\n",
              "    </tr>\n",
              "    <tr>\n",
              "      <th>2</th>\n",
              "      <td>171.0</td>\n",
              "      <td>15.0</td>\n",
              "      <td>293.0</td>\n",
              "      <td>1523</td>\n",
              "    </tr>\n",
              "  </tbody>\n",
              "</table>\n",
              "</div>"
            ],
            "text/plain": [
              "          Recency Frequency MonetaryValue      \n",
              "             mean      mean          mean count\n",
              "K_Cluster                                      \n",
              "0            13.0     260.0        6554.0   957\n",
              "1            69.0      65.0        1167.0  1858\n",
              "2           171.0      15.0         293.0  1523"
            ]
          },
          "metadata": {
            "tags": []
          },
          "execution_count": 42
        }
      ]
    },
    {
      "cell_type": "markdown",
      "metadata": {
        "id": "OyunC8du0C8U",
        "colab_type": "text"
      },
      "source": [
        "*Snake plots to understand and compare segments*\n",
        "\n",
        "- Market research technique to compare different segments\n",
        "- Visual representation of each segment's attributes\n",
        "- Need to first normalize data (center & scale)\n",
        "Plot each cluster's average normalized values of each attribute"
      ]
    },
    {
      "cell_type": "code",
      "metadata": {
        "id": "Hgd5DXEOvtwM",
        "colab_type": "code",
        "colab": {
          "base_uri": "https://localhost:8080/",
          "height": 202
        },
        "outputId": "7019255d-d1bc-4926-b5f0-c1d3a1d5394b"
      },
      "source": [
        "rfm_normalized = pd.DataFrame(rfm_normalized,index=rfm_rfm.index,columns=rfm_rfm.columns)\n",
        "rfm_normalized['K_Cluster'] = kc.labels_\n",
        "rfm_normalized['General_Segment'] = rfm['General_Segment']\n",
        "rfm_normalized.reset_index(inplace = True)\n",
        "\n",
        "#Melt the data into a long format so RFM values and metric names are stored in 1 column each\n",
        "rfm_melt = pd.melt(rfm_normalized,id_vars=['CustomerID','General_Segment','K_Cluster'],value_vars=['Recency', 'Frequency', 'MonetaryValue'],\n",
        "var_name='Metric',value_name='Value')\n",
        "rfm_melt.head()"
      ],
      "execution_count": null,
      "outputs": [
        {
          "output_type": "execute_result",
          "data": {
            "text/html": [
              "<div>\n",
              "<style scoped>\n",
              "    .dataframe tbody tr th:only-of-type {\n",
              "        vertical-align: middle;\n",
              "    }\n",
              "\n",
              "    .dataframe tbody tr th {\n",
              "        vertical-align: top;\n",
              "    }\n",
              "\n",
              "    .dataframe thead th {\n",
              "        text-align: right;\n",
              "    }\n",
              "</style>\n",
              "<table border=\"1\" class=\"dataframe\">\n",
              "  <thead>\n",
              "    <tr style=\"text-align: right;\">\n",
              "      <th></th>\n",
              "      <th>CustomerID</th>\n",
              "      <th>General_Segment</th>\n",
              "      <th>K_Cluster</th>\n",
              "      <th>Metric</th>\n",
              "      <th>Value</th>\n",
              "    </tr>\n",
              "  </thead>\n",
              "  <tbody>\n",
              "    <tr>\n",
              "      <th>0</th>\n",
              "      <td>12346.0</td>\n",
              "      <td>Sliver</td>\n",
              "      <td>1</td>\n",
              "      <td>Recency</td>\n",
              "      <td>1.409982</td>\n",
              "    </tr>\n",
              "    <tr>\n",
              "      <th>1</th>\n",
              "      <td>12347.0</td>\n",
              "      <td>Gold</td>\n",
              "      <td>0</td>\n",
              "      <td>Recency</td>\n",
              "      <td>-2.146578</td>\n",
              "    </tr>\n",
              "    <tr>\n",
              "      <th>2</th>\n",
              "      <td>12348.0</td>\n",
              "      <td>Sliver</td>\n",
              "      <td>1</td>\n",
              "      <td>Recency</td>\n",
              "      <td>0.383648</td>\n",
              "    </tr>\n",
              "    <tr>\n",
              "      <th>3</th>\n",
              "      <td>12349.0</td>\n",
              "      <td>Gold</td>\n",
              "      <td>1</td>\n",
              "      <td>Recency</td>\n",
              "      <td>-0.574961</td>\n",
              "    </tr>\n",
              "    <tr>\n",
              "      <th>4</th>\n",
              "      <td>12350.0</td>\n",
              "      <td>Bronze</td>\n",
              "      <td>2</td>\n",
              "      <td>Recency</td>\n",
              "      <td>1.375072</td>\n",
              "    </tr>\n",
              "  </tbody>\n",
              "</table>\n",
              "</div>"
            ],
            "text/plain": [
              "   CustomerID General_Segment  K_Cluster   Metric     Value\n",
              "0     12346.0          Sliver          1  Recency  1.409982\n",
              "1     12347.0            Gold          0  Recency -2.146578\n",
              "2     12348.0          Sliver          1  Recency  0.383648\n",
              "3     12349.0            Gold          1  Recency -0.574961\n",
              "4     12350.0          Bronze          2  Recency  1.375072"
            ]
          },
          "metadata": {
            "tags": []
          },
          "execution_count": 43
        }
      ]
    },
    {
      "cell_type": "code",
      "metadata": {
        "id": "c1hQl0uNv2iI",
        "colab_type": "code",
        "colab": {
          "base_uri": "https://localhost:8080/",
          "height": 171
        },
        "outputId": "e08d152d-a345-4ab2-a49f-940d9538b298"
      },
      "source": [
        "# The further a ratio is from 0, the more important that attribute is for a segment relative to the total population\n",
        "cluster_avg = rfm_rfm_k3.groupby(['K_Cluster']).mean()\n",
        "population_avg = rfm_rfm.mean()\n",
        "relative_imp = cluster_avg / population_avg - 1\n",
        "relative_imp.round(2)"
      ],
      "execution_count": null,
      "outputs": [
        {
          "output_type": "execute_result",
          "data": {
            "text/html": [
              "<div>\n",
              "<style scoped>\n",
              "    .dataframe tbody tr th:only-of-type {\n",
              "        vertical-align: middle;\n",
              "    }\n",
              "\n",
              "    .dataframe tbody tr th {\n",
              "        vertical-align: top;\n",
              "    }\n",
              "\n",
              "    .dataframe thead th {\n",
              "        text-align: right;\n",
              "    }\n",
              "</style>\n",
              "<table border=\"1\" class=\"dataframe\">\n",
              "  <thead>\n",
              "    <tr style=\"text-align: right;\">\n",
              "      <th></th>\n",
              "      <th>Recency</th>\n",
              "      <th>Frequency</th>\n",
              "      <th>MonetaryValue</th>\n",
              "    </tr>\n",
              "    <tr>\n",
              "      <th>K_Cluster</th>\n",
              "      <th></th>\n",
              "      <th></th>\n",
              "      <th></th>\n",
              "    </tr>\n",
              "  </thead>\n",
              "  <tbody>\n",
              "    <tr>\n",
              "      <th>0</th>\n",
              "      <td>-0.86</td>\n",
              "      <td>1.87</td>\n",
              "      <td>2.20</td>\n",
              "    </tr>\n",
              "    <tr>\n",
              "      <th>1</th>\n",
              "      <td>-0.25</td>\n",
              "      <td>-0.28</td>\n",
              "      <td>-0.43</td>\n",
              "    </tr>\n",
              "    <tr>\n",
              "      <th>2</th>\n",
              "      <td>0.85</td>\n",
              "      <td>-0.84</td>\n",
              "      <td>-0.86</td>\n",
              "    </tr>\n",
              "  </tbody>\n",
              "</table>\n",
              "</div>"
            ],
            "text/plain": [
              "           Recency  Frequency  MonetaryValue\n",
              "K_Cluster                                   \n",
              "0            -0.86       1.87           2.20\n",
              "1            -0.25      -0.28          -0.43\n",
              "2             0.85      -0.84          -0.86"
            ]
          },
          "metadata": {
            "tags": []
          },
          "execution_count": 47
        }
      ]
    },
    {
      "cell_type": "code",
      "metadata": {
        "id": "tmX3mXrAv72E",
        "colab_type": "code",
        "colab": {
          "base_uri": "https://localhost:8080/",
          "height": 171
        },
        "outputId": "d3149946-01e8-420d-a07c-93332280f393"
      },
      "source": [
        "# the mean value in total \n",
        "total_avg = rfm.iloc[:, 0:3].mean()\n",
        "# calculate the proportional gap with total mean\n",
        "cluster_avg = rfm.groupby('General_Segment').mean().iloc[:, 0:3]\n",
        "prop_rfm = cluster_avg/total_avg - 1\n",
        "prop_rfm.round(2)"
      ],
      "execution_count": null,
      "outputs": [
        {
          "output_type": "execute_result",
          "data": {
            "text/html": [
              "<div>\n",
              "<style scoped>\n",
              "    .dataframe tbody tr th:only-of-type {\n",
              "        vertical-align: middle;\n",
              "    }\n",
              "\n",
              "    .dataframe tbody tr th {\n",
              "        vertical-align: top;\n",
              "    }\n",
              "\n",
              "    .dataframe thead th {\n",
              "        text-align: right;\n",
              "    }\n",
              "</style>\n",
              "<table border=\"1\" class=\"dataframe\">\n",
              "  <thead>\n",
              "    <tr style=\"text-align: right;\">\n",
              "      <th></th>\n",
              "      <th>Recency</th>\n",
              "      <th>Frequency</th>\n",
              "      <th>MonetaryValue</th>\n",
              "    </tr>\n",
              "    <tr>\n",
              "      <th>General_Segment</th>\n",
              "      <th></th>\n",
              "      <th></th>\n",
              "      <th></th>\n",
              "    </tr>\n",
              "  </thead>\n",
              "  <tbody>\n",
              "    <tr>\n",
              "      <th>Bronze</th>\n",
              "      <td>1.08</td>\n",
              "      <td>-0.83</td>\n",
              "      <td>-0.87</td>\n",
              "    </tr>\n",
              "    <tr>\n",
              "      <th>Gold</th>\n",
              "      <td>-0.78</td>\n",
              "      <td>1.49</td>\n",
              "      <td>1.56</td>\n",
              "    </tr>\n",
              "    <tr>\n",
              "      <th>Sliver</th>\n",
              "      <td>-0.22</td>\n",
              "      <td>-0.45</td>\n",
              "      <td>-0.48</td>\n",
              "    </tr>\n",
              "  </tbody>\n",
              "</table>\n",
              "</div>"
            ],
            "text/plain": [
              "                 Recency  Frequency  MonetaryValue\n",
              "General_Segment                                   \n",
              "Bronze              1.08      -0.83          -0.87\n",
              "Gold               -0.78       1.49           1.56\n",
              "Sliver             -0.22      -0.45          -0.48"
            ]
          },
          "metadata": {
            "tags": []
          },
          "execution_count": 48
        }
      ]
    },
    {
      "cell_type": "code",
      "metadata": {
        "id": "85904C0twAgM",
        "colab_type": "code",
        "colab": {
          "base_uri": "https://localhost:8080/",
          "height": 372
        },
        "outputId": "9125416f-b8a2-480f-fc20-771a0b36b6ef"
      },
      "source": [
        "# heatmap with RFM\n",
        "f, (ax1, ax2) = plt.subplots(1,2, figsize=(15, 5))\n",
        "sns.heatmap(data=relative_imp, annot=True, fmt='.2f', cmap='Blues',ax=ax1)\n",
        "ax1.set(title = \"Heatmap of K-Means\")\n",
        "\n",
        "\n",
        "sns.heatmap(prop_rfm, cmap= 'Oranges', fmt= '.2f', annot = True,ax=ax2)\n",
        "ax2.set(title = \"Heatmap of RFM quantile\")\n",
        "\n",
        "plt.suptitle(\"Heat Map of RFM\",fontsize=20) #make title fontsize subtitle \n",
        "\n",
        "plt.show()\n"
      ],
      "execution_count": null,
      "outputs": [
        {
          "output_type": "display_data",
          "data": {
            "image/png": "[encoded data removed]",
            "text/plain": [
              "<Figure size 1080x360 with 4 Axes>"
            ]
          },
          "metadata": {
            "tags": []
          }
        }
      ]
    },
    {
      "cell_type": "markdown",
      "metadata": {
        "id": "n-3e2qjY3d70",
        "colab_type": "text"
      },
      "source": [
        "# 6.Tenure"
      ]
    },
    {
      "cell_type": "code",
      "metadata": {
        "id": "clOlpCVOwEci",
        "colab_type": "code",
        "colab": {}
      },
      "source": [
        "tenure_list = []\n",
        "for i in list(rfm_rfm.index):\n",
        "    tenure_list.append((df.InvoiceDate.max() - df[(df.CustomerID == i)]['InvoiceDate'].min()).days + 1)"
      ],
      "execution_count": null,
      "outputs": []
    },
    {
      "cell_type": "code",
      "metadata": {
        "id": "KCTWKPDA3oAL",
        "colab_type": "code",
        "colab": {
          "base_uri": "https://localhost:8080/",
          "height": 104
        },
        "outputId": "88626ba1-53b3-43c0-aadb-2c549f204175"
      },
      "source": [
        "data_rfmt = rfm_rfm.assign(Tenure = tenure_list)\n",
        "data_rfmt.min()"
      ],
      "execution_count": null,
      "outputs": [
        {
          "output_type": "execute_result",
          "data": {
            "text/plain": [
              "Recency          1.00\n",
              "Frequency        1.00\n",
              "MonetaryValue    3.75\n",
              "Tenure           1.00\n",
              "dtype: float64"
            ]
          },
          "metadata": {
            "tags": []
          },
          "execution_count": 51
        }
      ]
    },
    {
      "cell_type": "code",
      "metadata": {
        "id": "wpRa4uLp31N_",
        "colab_type": "code",
        "colab": {}
      },
      "source": [
        "data_rfmt_log = np.log(data_rfmt)\n",
        "scaler = StandardScaler()\n",
        "scaler.fit(data_rfmt_log)\n",
        "data_rfmt_normalized = scaler.transform(data_rfmt_log)"
      ],
      "execution_count": null,
      "outputs": []
    },
    {
      "cell_type": "code",
      "metadata": {
        "id": "hiOFlkA14BZd",
        "colab_type": "code",
        "colab": {
          "base_uri": "https://localhost:8080/",
          "height": 487
        },
        "outputId": "90653467-91d5-412e-aad8-4d4a29aa1d77"
      },
      "source": [
        "sse = {}\n",
        "for k in range(1, 11):\n",
        "    kmeans = KMeans(n_clusters=k, random_state=1).fit(data_rfmt_normalized)\n",
        "    sse[k] = kmeans.inertia_ \n",
        "\n",
        "plt.figure(figsize = (13,7))\n",
        "plt.title('The Elbow Method'); plt.xlabel('k'); plt.ylabel('SSE')\n",
        "sns.pointplot(x=list(sse.keys()), y=list(sse.values()))\n",
        "plt.show()"
      ],
      "execution_count": null,
      "outputs": [
        {
          "output_type": "display_data",
          "data": {
            "image/png": "[encoded data removed]",
            "text/plain": [
              "<Figure size 936x504 with 1 Axes>"
            ]
          },
          "metadata": {
            "tags": []
          }
        }
      ]
    },
    {
      "cell_type": "code",
      "metadata": {
        "id": "qWaOhkly4FWY",
        "colab_type": "code",
        "colab": {}
      },
      "source": [
        "kmeans = KMeans(n_clusters=3, random_state=1) \n",
        "kmeans.fit(data_rfmt_normalized)\n",
        "cluster_labels = kmeans.labels_"
      ],
      "execution_count": null,
      "outputs": []
    },
    {
      "cell_type": "code",
      "metadata": {
        "id": "FXtRn_AB4OdD",
        "colab_type": "code",
        "colab": {
          "base_uri": "https://localhost:8080/",
          "height": 202
        },
        "outputId": "f131b90e-90f7-4b4a-c4e2-495efef592a5"
      },
      "source": [
        "data_rfmt_k3 = data_rfmt.assign(Cluster=cluster_labels)\n",
        "grouped = data_rfmt_k3.groupby(['Cluster'])\n",
        "grouped.agg({\n",
        "    'Recency': 'mean',\n",
        "    'Frequency': 'mean',\n",
        "    'MonetaryValue': 'mean',\n",
        "    'Tenure': ['mean', 'count']\n",
        "  }).round(1)"
      ],
      "execution_count": null,
      "outputs": [
        {
          "output_type": "execute_result",
          "data": {
            "text/html": [
              "<div>\n",
              "<style scoped>\n",
              "    .dataframe tbody tr th:only-of-type {\n",
              "        vertical-align: middle;\n",
              "    }\n",
              "\n",
              "    .dataframe tbody tr th {\n",
              "        vertical-align: top;\n",
              "    }\n",
              "\n",
              "    .dataframe thead tr th {\n",
              "        text-align: left;\n",
              "    }\n",
              "\n",
              "    .dataframe thead tr:last-of-type th {\n",
              "        text-align: right;\n",
              "    }\n",
              "</style>\n",
              "<table border=\"1\" class=\"dataframe\">\n",
              "  <thead>\n",
              "    <tr>\n",
              "      <th></th>\n",
              "      <th>Recency</th>\n",
              "      <th>Frequency</th>\n",
              "      <th>MonetaryValue</th>\n",
              "      <th colspan=\"2\" halign=\"left\">Tenure</th>\n",
              "    </tr>\n",
              "    <tr>\n",
              "      <th></th>\n",
              "      <th>mean</th>\n",
              "      <th>mean</th>\n",
              "      <th>mean</th>\n",
              "      <th>mean</th>\n",
              "      <th>count</th>\n",
              "    </tr>\n",
              "    <tr>\n",
              "      <th>Cluster</th>\n",
              "      <th></th>\n",
              "      <th></th>\n",
              "      <th></th>\n",
              "      <th></th>\n",
              "      <th></th>\n",
              "    </tr>\n",
              "  </thead>\n",
              "  <tbody>\n",
              "    <tr>\n",
              "      <th>0</th>\n",
              "      <td>183.2</td>\n",
              "      <td>26.4</td>\n",
              "      <td>554.5</td>\n",
              "      <td>255.5</td>\n",
              "      <td>1714</td>\n",
              "    </tr>\n",
              "    <tr>\n",
              "      <th>1</th>\n",
              "      <td>36.0</td>\n",
              "      <td>33.1</td>\n",
              "      <td>497.8</td>\n",
              "      <td>52.6</td>\n",
              "      <td>955</td>\n",
              "    </tr>\n",
              "    <tr>\n",
              "      <th>2</th>\n",
              "      <td>31.8</td>\n",
              "      <td>189.2</td>\n",
              "      <td>4470.6</td>\n",
              "      <td>287.9</td>\n",
              "      <td>1669</td>\n",
              "    </tr>\n",
              "  </tbody>\n",
              "</table>\n",
              "</div>"
            ],
            "text/plain": [
              "        Recency Frequency MonetaryValue Tenure      \n",
              "           mean      mean          mean   mean count\n",
              "Cluster                                             \n",
              "0         183.2      26.4         554.5  255.5  1714\n",
              "1          36.0      33.1         497.8   52.6   955\n",
              "2          31.8     189.2        4470.6  287.9  1669"
            ]
          },
          "metadata": {
            "tags": []
          },
          "execution_count": 55
        }
      ]
    },
    {
      "cell_type": "markdown",
      "metadata": {
        "id": "zVUsQAFdOylX",
        "colab_type": "text"
      },
      "source": [
        " **Conclusion:**\n",
        "\n",
        "We talked about how to get RFM values from customer purchase data, and we made two kinds of segmentation with RFM quantiles and K-Means clustering methods.\n",
        "By performing Cohort analysis you can get following answers to following questions:\n",
        "\n",
        "- How much effective was a marketing campaign held in a particular time period.\n",
        "- Should I focus more on retention rather than acquiring new customers?\n",
        "-  Is there a seasoanlity pattern in Customer behahiour?\n",
        "- along with varios perfromance measures/metrics for your organisation."
      ]
    },
    {
      "cell_type": "code",
      "metadata": {
        "id": "i6zBb9dAK2Bv",
        "colab_type": "code",
        "colab": {}
      },
      "source": [
        ""
      ],
      "execution_count": null,
      "outputs": []
    }
  ]
}